{
 "cells": [
  {
   "cell_type": "markdown",
   "id": "ace61d3b-a3ad-4fca-9f41-7c5a703f2891",
   "metadata": {},
   "source": [
    "# Set up tutorials\n",
    "\n",
    "Once tutorials are finalized, they can be copied to the tutorials repo (that participants will clone) and copied to the JupyterBook.  To use this notebook,\n",
    "\n",
    "1. Run the first code chunk\n",
    "2. Add or run subsequent code chunks to create the files.\n",
    "3. For the JupyterBook, you will need to create a PR manually and label it 'preview'"
   ]
  },
  {
   "cell_type": "code",
   "execution_count": 36,
   "id": "6c76050a-4293-43b2-bbe5-ee1fd1b47cd2",
   "metadata": {},
   "outputs": [],
   "source": [
    "# https://jupytext.readthedocs.io/en/latest/using-cli.html#advanced-usage-error-tolerance\n",
    "import os\n",
    "import time\n",
    "def get_tutorial(fil, dir, push=True):\n",
    "  src_dir=\"~/oceandata-notebooks/src/\"\n",
    "  tut_dir=\"~/pace-2024-tutorials/\"\n",
    "  book_repo=\"~/pace-2024/\"\n",
    "  book_dir=\"book/tutorials/\"\n",
    "  os.system(\"mkdir -p \"+tut_dir+dir)\n",
    "  os.system(\"mkdir -p \"+book_dir+dir)\n",
    "  tfil=tut_dir+dir+\"/\"+fil+\".ipynb\"\n",
    "  ifil=src_dir+dir+\"/\"+fil+\".py\"\n",
    "  bfil=book_repo+book_dir+dir+\"/\"+fil+\".ipynb\"\n",
    "  # create ipynb without executed cells\n",
    "  os.system(\"jupytext --to ipynb -o \"+tfil+\" \"+ifil)\n",
    "  if push:\n",
    "    os.system(\"cd \"+tut_dir+\" && \"+\"git commit \"+dir+\"/\"+fil+\".ipynb -m 'update tutorial' && git push\")\n",
    "  # create the book tutorial with rendering\n",
    "  if push:\n",
    "    os.system(\"cd \"+book_dir)\n",
    "    newbranch=\"tutorial-patch-\"+str(round(time.time()))\n",
    "    curbranch=os.popen(\"git rev-parse --abbrev-ref HEAD\").read().strip()\n",
    "    os.system(\"git checkout -b \"+newbranch)\n",
    "  os.system(\"cp --force \"+tfil+\" \"+bfil)\n",
    "  # create ipynb without executed cells\n",
    "  os.system(\"jupyter nbconvert --to ipynb --inplace --execute --allow-errors \"+bfil)\n",
    "  if push:\n",
    "    bfil=book_dir+dir+\"/\"+fil+\".ipynb\"\n",
    "    os.system(\"git add \"+bfil+\" && git commit -m 'add tutorial' && git push -u origin \"+newbranch+\" && git checkout \"+curbranch)\n"
   ]
  },
  {
   "cell_type": "markdown",
   "id": "a0136b1b-4e69-4db0-ad5b-d094d2c2da0c",
   "metadata": {},
   "source": [
    "## oci tutorials"
   ]
  },
  {
   "cell_type": "code",
   "execution_count": null,
   "id": "8ecf8de4-557c-4522-bed1-fdccf2ea6774",
   "metadata": {
    "scrolled": true
   },
   "outputs": [],
   "source": [
    "get_tutorial(\"oci_data_access\", \"oci\", push=True)"
   ]
  },
  {
   "cell_type": "code",
   "execution_count": null,
   "id": "a4e956f5-d6b5-419a-a5f1-40cc1c5d13f7",
   "metadata": {},
   "outputs": [],
   "source": [
    "get_tutorial(\"oci_file_structure\", \"oci\", push=True)"
   ]
  },
  {
   "cell_type": "markdown",
   "id": "892cc941-80bf-4189-b9e7-28a05e377d4f",
   "metadata": {},
   "source": [
    "## harp tutorials"
   ]
  },
  {
   "cell_type": "code",
   "execution_count": null,
   "id": "28aff8b5-b998-4ac0-a8c8-c29f6d2dd6a6",
   "metadata": {},
   "outputs": [],
   "source": [
    "get_tutorial(\"harp2_basic_visualizations\", \"harp2\", push=True)"
   ]
  }
 ],
 "metadata": {
  "kernelspec": {
   "display_name": "Python 3 (ipykernel)",
   "language": "python",
   "name": "python3"
  },
  "language_info": {
   "codemirror_mode": {
    "name": "ipython",
    "version": 3
   },
   "file_extension": ".py",
   "mimetype": "text/x-python",
   "name": "python",
   "nbconvert_exporter": "python",
   "pygments_lexer": "ipython3",
   "version": "3.11.9"
  }
 },
 "nbformat": 4,
 "nbformat_minor": 5
}
