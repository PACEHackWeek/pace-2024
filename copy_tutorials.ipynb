{
 "cells": [
  {
   "cell_type": "markdown",
   "id": "ace61d3b-a3ad-4fca-9f41-7c5a703f2891",
   "metadata": {},
   "source": [
    "# Set up tutorials\n",
    "\n",
    "Once tutorials are finalized, they can be copied to the tutorials repo (that participants will clone) and copied to the JupyterBook.  To use this notebook,\n",
    "\n",
    "1. Run the first code chunk\n",
    "2. Add or run subsequent code chunks to create the files.\n",
    "3. CLOSE copy_tutorials.ipynb! or else jupyter notebooks is going to create merge conflicts.\n",
    "4. Click on the created branch and then open /book/_toc.yaml . Add your file to the toc.\n",
    "5. Edit book/tutorials/index.md to add your tutorial there.\n",
    "6. Go to GitHub and manually create a PR and label it 'preview'\n",
    "7. Need changes? Get on the branch and make changes there.\n",
    "8. Done? Make sure to a) merge the PR or delete it and b) delete the branch used for the PR."
   ]
  },
  {
   "cell_type": "code",
   "execution_count": 5,
   "id": "6c76050a-4293-43b2-bbe5-ee1fd1b47cd2",
   "metadata": {},
   "outputs": [],
   "source": [
    "# https://jupytext.readthedocs.io/en/latest/using-cli.html#advanced-usage-error-tolerance\n",
    "import os\n",
    "import time\n",
    "def get_tutorial(fil, dir, push=True):\n",
    "  src_dir=\"~/oceandata-notebooks/src/\"\n",
    "  tut_dir=\"~/pace-2024-tutorials/\"\n",
    "  book_repo=\"~/pace-2024/\"\n",
    "  book_dir=\"book/tutorials/\"\n",
    "  os.system(\"mkdir -p \"+tut_dir+dir)\n",
    "  os.system(\"mkdir -p \"+book_dir+dir)\n",
    "  tfil=tut_dir+dir+\"/\"+fil+\".ipynb\"\n",
    "  ifil=src_dir+dir+\"/\"+fil+\".py\"\n",
    "  bfil=book_repo+book_dir+dir+\"/\"+fil+\".ipynb\"\n",
    "  # create ipynb without executed cells\n",
    "  os.system(\"jupytext --to ipynb -o \"+tfil+\" \"+ifil)\n",
    "  if push:\n",
    "    os.system(\"cd \"+tut_dir+\" && \"+\"git add \"+dir+\"/\"+fil+\".ipynb && git commit -m 'update tutorial' && git push\")\n",
    "  # create the book tutorial with rendering\n",
    "  if push:\n",
    "    os.system(\"cd \"+book_dir)\n",
    "    newbranch=\"tutorial-patch-\"+str(round(time.time()))\n",
    "    curbranch=os.popen(\"git rev-parse --abbrev-ref HEAD\").read().strip()\n",
    "    os.system(\"git checkout -b \"+newbranch)\n",
    "  os.system(\"cp --force \"+tfil+\" \"+bfil)\n",
    "  # create ipynb without executed cells\n",
    "  os.system(\"jupyter nbconvert --to ipynb --inplace --execute --allow-errors \"+bfil)\n",
    "  if push:\n",
    "    bfil=book_dir+dir+\"/\"+fil+\".ipynb\"\n",
    "    os.system(\"git add \"+bfil+\" && git commit -m 'add tutorial' && git push -u origin \"+newbranch+\" && git checkout \"+curbranch)\n"
   ]
  },
  {
   "cell_type": "markdown",
   "id": "a0136b1b-4e69-4db0-ad5b-d094d2c2da0c",
   "metadata": {},
   "source": [
    "## oci tutorials"
   ]
  },
  {
   "cell_type": "code",
   "execution_count": null,
   "id": "8ecf8de4-557c-4522-bed1-fdccf2ea6774",
   "metadata": {
    "scrolled": true
   },
   "outputs": [],
   "source": [
    "get_tutorial(\"oci_data_access\", \"oci\", push=True)"
   ]
  },
  {
   "cell_type": "code",
   "execution_count": null,
   "id": "a4e956f5-d6b5-419a-a5f1-40cc1c5d13f7",
   "metadata": {},
   "outputs": [],
   "source": [
    "get_tutorial(\"oci_file_structure\", \"oci\", push=True)"
   ]
  },
  {
   "cell_type": "markdown",
   "id": "892cc941-80bf-4189-b9e7-28a05e377d4f",
   "metadata": {},
   "source": [
    "## harp tutorials"
   ]
  },
  {
   "cell_type": "code",
   "execution_count": 6,
   "id": "28aff8b5-b998-4ac0-a8c8-c29f6d2dd6a6",
   "metadata": {},
   "outputs": [
    {
     "name": "stdout",
     "output_type": "stream",
     "text": [
      "[jupytext] Reading /home/jovyan/oceandata-notebooks/src/harp2/harp2_basic_visualizations.py in format py\n",
      "[jupytext] Writing /home/jovyan/pace-2024-tutorials/harp2/harp2_basic_visualizations.ipynb\n"
     ]
    },
    {
     "name": "stderr",
     "output_type": "stream",
     "text": [
      "error: pathspec 'harp2/harp2_basic_visualizations.ipynb' did not match any file(s) known to git\n",
      "Switched to a new branch 'tutorial-patch-1718843545'\n",
      "[NbConvertApp] Converting notebook /home/jovyan/pace-2024/book/tutorials/harp2/harp2_basic_visualizations.ipynb to notebook\n",
      "0.00s - Debugger warning: It seems that frozen modules are being used, which may\n",
      "0.00s - make the debugger miss breakpoints. Please pass -Xfrozen_modules=off\n",
      "0.00s - to python to disable frozen modules.\n",
      "0.00s - Note: Debugging will proceed. Set PYDEVD_DISABLE_FILE_VALIDATION=1 to disable this validation.\n",
      "[NbConvertApp] Writing 64810 bytes to /home/jovyan/pace-2024/book/tutorials/harp2/harp2_basic_visualizations.ipynb\n"
     ]
    },
    {
     "name": "stdout",
     "output_type": "stream",
     "text": [
      "[tutorial-patch-1718843545 7b8150b] add tutorial\n",
      " 1 file changed, 1276 insertions(+)\n",
      " create mode 100644 book/tutorials/harp2/harp2_basic_visualizations.ipynb\n"
     ]
    },
    {
     "name": "stderr",
     "output_type": "stream",
     "text": [
      "remote: \n",
      "remote: Create a pull request for 'tutorial-patch-1718843545' on GitHub by visiting:        \n",
      "remote:      https://github.com/PACEHackWeek/pace-2024/pull/new/tutorial-patch-1718843545        \n",
      "remote: \n",
      "To https://github.com/PACEHackWeek/pace-2024\n",
      " * [new branch]      tutorial-patch-1718843545 -> tutorial-patch-1718843545\n"
     ]
    },
    {
     "name": "stdout",
     "output_type": "stream",
     "text": [
      "branch 'tutorial-patch-1718843545' set up to track 'origin/tutorial-patch-1718843545'.\n",
      "Your branch is up to date with 'origin/main'.\n"
     ]
    },
    {
     "name": "stderr",
     "output_type": "stream",
     "text": [
      "Switched to branch 'main'\n"
     ]
    }
   ],
   "source": [
    "get_tutorial(\"harp2_basic_visualizations\", \"harp2\", push=True)"
   ]
  },
  {
   "cell_type": "code",
   "execution_count": null,
   "id": "7f9e6ff8-15ce-4566-8af6-33b63084de5c",
   "metadata": {},
   "outputs": [],
   "source": []
  }
 ],
 "metadata": {
  "kernelspec": {
   "display_name": "Python 3 (ipykernel)",
   "language": "python",
   "name": "python3"
  },
  "language_info": {
   "codemirror_mode": {
    "name": "ipython",
    "version": 3
   },
   "file_extension": ".py",
   "mimetype": "text/x-python",
   "name": "python",
   "nbconvert_exporter": "python",
   "pygments_lexer": "ipython3",
   "version": "3.11.9"
  }
 },
 "nbformat": 4,
 "nbformat_minor": 5
}
