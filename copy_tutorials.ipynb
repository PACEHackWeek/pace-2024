{
 "cells": [
  {
   "cell_type": "markdown",
   "id": "ace61d3b-a3ad-4fca-9f41-7c5a703f2891",
   "metadata": {},
   "source": [
    "# Set up tutorials\n",
    "\n",
    "Once tutorials are finalized, they can be copied to the tutorials repo (that participants will clone) and copied to the JupyterBook.  To use this notebook,\n",
    "\n",
    "1. Run the first code chunk\n",
    "2. Add or run subsequent code chunks to create the files.\n",
    "3. For the JupyterBook, you will need to create a PR manually and label it 'preview'"
   ]
  },
  {
   "cell_type": "code",
   "execution_count": 34,
   "id": "6c76050a-4293-43b2-bbe5-ee1fd1b47cd2",
   "metadata": {},
   "outputs": [],
   "source": [
    "# https://jupytext.readthedocs.io/en/latest/using-cli.html#advanced-usage-error-tolerance\n",
    "import os\n",
    "import time\n",
    "def get_tutorial(fil, dir, push=True):\n",
    "  src_dir=\"~/oceandata-notebooks/src/\"\n",
    "  tut_dir=\"~/pace-2024-tutorials/\"\n",
    "  book_dir=\"~/pace-2024/book/tutorials/\"\n",
    "  os.system(\"mkdir -p \"+tut_dir+dir)\n",
    "  os.system(\"mkdir -p \"+book_dir+dir)\n",
    "  tfil=tut_dir+dir+\"/\"+fil+\".ipynb\"\n",
    "  ifil=src_dir+dir+\"/\"+fil+\".py\"\n",
    "  bfil=book_dir+dir+\"/\"+fil+\".ipynb\"\n",
    "  # create ipynb without executed cells\n",
    "  os.system(\"jupytext --to ipynb -o \"+tfil+\" \"+ifil)\n",
    "  if push:\n",
    "    os.system(\"cd \"+tut_dir+\" && \"+\"git commit \"+dir+\"/\"+fil+\".ipynb -m 'update tutorial' && git push\")\n",
    "  # create the book tutorial with rendering\n",
    "  if push:\n",
    "    os.system(\"cd \"+book_dir)\n",
    "    newbranch=\"tutorial-patch-\"+str(round(time.time()))\n",
    "    curbranch=os.popen(\"git rev-parse --abbrev-ref HEAD\").read().strip()\n",
    "    os.system(\"git checkout -b \"+newbranch)\n",
    "  os.system(\"cp --force \"+tfil+\" \"+bfil)\n",
    "  # create ipynb without executed cells\n",
    "  os.system(\"jupyter nbconvert --to ipynb --inplace --execute --allow-errors \"+bfil)\n",
    "  if push:\n",
    "    bfil=\"/book/tutorials/\"+dir+\"/\"+fil+\".ipynb\"\n",
    "    os.system(\"git commit -m 'add tutorial' -a && git push -u origin \"+newbranch+\" && git checkout \"+curbranch)\n"
   ]
  },
  {
   "cell_type": "markdown",
   "id": "a0136b1b-4e69-4db0-ad5b-d094d2c2da0c",
   "metadata": {},
   "source": [
    "## oci tutorials"
   ]
  },
  {
   "cell_type": "code",
   "execution_count": null,
   "id": "8ecf8de4-557c-4522-bed1-fdccf2ea6774",
   "metadata": {},
   "outputs": [
    {
     "name": "stdout",
     "output_type": "stream",
     "text": [
      "[jupytext] Reading /home/jovyan/oceandata-notebooks/src/oci/oci_data_access.py in format py\n",
      "[jupytext] Writing /home/jovyan/pace-2024-tutorials/oci/oci_data_access.ipynb (destination file replaced [use --update to preserve cell outputs and ids])\n",
      "[main 5e6aa60] update tutorial\n",
      " 1 file changed, 29 insertions(+), 29 deletions(-)\n"
     ]
    },
    {
     "name": "stderr",
     "output_type": "stream",
     "text": [
      "To https://github.com/PACEHackWeek/pace-2024-tutorials\n",
      "   5cbb4bd..5e6aa60  main -> main\n",
      "Switched to a new branch 'tutorial-patch-1718831092'\n",
      "[NbConvertApp] Converting notebook /home/jovyan/pace-2024/book/tutorials/oci/oci_data_access.ipynb to notebook\n",
      "0.00s - Debugger warning: It seems that frozen modules are being used, which may\n",
      "0.00s - make the debugger miss breakpoints. Please pass -Xfrozen_modules=off\n",
      "0.00s - to python to disable frozen modules.\n",
      "0.00s - Note: Debugging will proceed. Set PYDEVD_DISABLE_FILE_VALIDATION=1 to disable this validation.\n"
     ]
    }
   ],
   "source": [
    "get_tutorial(\"oci_data_access\", \"oci\", push=True)"
   ]
  },
  {
   "cell_type": "code",
   "execution_count": 7,
   "id": "dd8c10c8-1f66-4d02-8a12-c202bb6a0efc",
   "metadata": {},
   "outputs": [
    {
     "data": {
      "text/plain": [
       "1718827900"
      ]
     },
     "execution_count": 7,
     "metadata": {},
     "output_type": "execute_result"
    }
   ],
   "source": [
    "import time\n",
    "round(time.time())"
   ]
  },
  {
   "cell_type": "code",
   "execution_count": 12,
   "id": "0e5f577e-b95b-4e32-b0e1-51573d94e07b",
   "metadata": {},
   "outputs": [
    {
     "data": {
      "text/plain": [
       "'git checkout -b tutorial-patch-1718828383'"
      ]
     },
     "execution_count": 12,
     "metadata": {},
     "output_type": "execute_result"
    }
   ],
   "source": [
    "\"git checkout -b tutorial-patch-\"+str(round(time.time()))"
   ]
  },
  {
   "cell_type": "code",
   "execution_count": 11,
   "id": "cccbba72-ad5f-4d30-9085-57387fa64c98",
   "metadata": {},
   "outputs": [
    {
     "ename": "TypeError",
     "evalue": "can only concatenate str (not \"int\") to str",
     "output_type": "error",
     "traceback": [
      "\u001b[0;31m---------------------------------------------------------------------------\u001b[0m",
      "\u001b[0;31mTypeError\u001b[0m                                 Traceback (most recent call last)",
      "Cell \u001b[0;32mIn[11], line 1\u001b[0m\n\u001b[0;32m----> 1\u001b[0m \u001b[38;5;124;43m\"\u001b[39;49m\u001b[38;5;124;43ma\u001b[39;49m\u001b[38;5;124;43m\"\u001b[39;49m\u001b[38;5;241;43m+\u001b[39;49m\u001b[38;5;241;43m123\u001b[39;49m\n",
      "\u001b[0;31mTypeError\u001b[0m: can only concatenate str (not \"int\") to str"
     ]
    }
   ],
   "source": [
    "\"a\"+123"
   ]
  },
  {
   "cell_type": "code",
   "execution_count": 27,
   "id": "4b177343-1b6f-4700-806f-3af3792283eb",
   "metadata": {},
   "outputs": [],
   "source": [
    "curbranch=os.popen(\"git rev-parse --abbrev-ref HEAD\").read().strip()"
   ]
  },
  {
   "cell_type": "code",
   "execution_count": 28,
   "id": "0ef4b9bb-4252-43e7-ada1-84f626d4fab9",
   "metadata": {},
   "outputs": [
    {
     "data": {
      "text/plain": [
       "'main'"
      ]
     },
     "execution_count": 28,
     "metadata": {},
     "output_type": "execute_result"
    }
   ],
   "source": [
    "curbranch"
   ]
  },
  {
   "cell_type": "code",
   "execution_count": 25,
   "id": "aeeca9bd-6697-48ac-8879-b9e18768de22",
   "metadata": {},
   "outputs": [],
   "source": [
    "import subprocess\n",
    "direct_output = subprocess.check_output('git rev-parse --abbrev-ref HEAD', shell=True)"
   ]
  },
  {
   "cell_type": "code",
   "execution_count": 26,
   "id": "5a4cd0fa-d5ee-45d2-8df1-541f3751a340",
   "metadata": {},
   "outputs": [
    {
     "data": {
      "text/plain": [
       "b'main\\n'"
      ]
     },
     "execution_count": 26,
     "metadata": {},
     "output_type": "execute_result"
    }
   ],
   "source": [
    "direct_output"
   ]
  },
  {
   "cell_type": "code",
   "execution_count": null,
   "id": "c15b760a-8a2c-494d-9dd6-a2724ab05967",
   "metadata": {},
   "outputs": [],
   "source": []
  }
 ],
 "metadata": {
  "kernelspec": {
   "display_name": "Python 3 (ipykernel)",
   "language": "python",
   "name": "python3"
  },
  "language_info": {
   "codemirror_mode": {
    "name": "ipython",
    "version": 3
   },
   "file_extension": ".py",
   "mimetype": "text/x-python",
   "name": "python",
   "nbconvert_exporter": "python",
   "pygments_lexer": "ipython3",
   "version": "3.11.9"
  }
 },
 "nbformat": 4,
 "nbformat_minor": 5
}
