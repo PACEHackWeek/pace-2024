{
 "cells": [
  {
   "cell_type": "markdown",
   "id": "43789857-fcd9-4d69-8b44-9ab62a239d0e",
   "metadata": {},
   "source": [
    "# Really simple test"
   ]
  },
  {
   "cell_type": "code",
   "execution_count": 1,
   "id": "4a2319fc-b390-4d30-8557-1a5708d44b5a",
   "metadata": {},
   "outputs": [
    {
     "data": {
      "text/plain": [
       "2"
      ]
     },
     "execution_count": 1,
     "metadata": {},
     "output_type": "execute_result"
    }
   ],
   "source": [
    "1+1"
   ]
  },
  {
   "cell_type": "code",
   "execution_count": null,
   "id": "83105138-0111-47f4-a98e-9b85c4069b27",
   "metadata": {},
   "outputs": [],
   "source": []
  }
 ],
 "metadata": {
  "kernelspec": {
   "display_name": "Python 3 (ipykernel)",
   "language": "python",
   "name": "python3"
  },
  "language_info": {
   "codemirror_mode": {
    "name": "ipython",
    "version": 3
   },
   "file_extension": ".py",
   "mimetype": "text/x-python",
   "name": "python",
   "nbconvert_exporter": "python",
   "pygments_lexer": "ipython3",
   "version": "3.11.9"
  }
 },
 "nbformat": 4,
 "nbformat_minor": 5
}
