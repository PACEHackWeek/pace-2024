{
 "cells": [
  {
   "cell_type": "markdown",
   "id": "b1ab0022-9afb-4ef5-b1e0-767458aeb9d0",
   "metadata": {},
   "source": [
    "# HARP2 Polarimeter\n",
    "<br/><br/>\n",
    "![harp2 instrument](./Images/harp2-a.png)\n",
    "\n",
    "## About the sensor\n",
    "\n",
    "HARP2 (Hyper-Angular Rainbow Polarimeter #2) is a wide angle imaging polarimeter designed to measure aerosol particles and clouds, as well as properties of land and water surfaces. The amount and type of particles in suspension in the atmosphere are relevant to applications pertaining to health effects, cloud life cycle and precipitation, climate, etc. HARP2 will combine data from multiple along track viewing angles (up to 60), four spectral bands in the visible and near infrared ranges, and three angles of linear polarization to measure the microphysical properties of the atmospheric particles including their size distribution, amount, refractive indices and particle shape. Learn about the HARP2 sensor at the [HARP2 page](https://pace.oceansciences.org/harp2.htm).\n"
   ]
  }
 ],
 "metadata": {
  "kernelspec": {
   "display_name": "Python 3 (ipykernel)",
   "language": "python",
   "name": "python3"
  },
  "language_info": {
   "codemirror_mode": {
    "name": "ipython",
    "version": 3
   },
   "file_extension": ".py",
   "mimetype": "text/x-python",
   "name": "python",
   "nbconvert_exporter": "python",
   "pygments_lexer": "ipython3",
   "version": "3.11.9"
  }
 },
 "nbformat": 4,
 "nbformat_minor": 5
}
