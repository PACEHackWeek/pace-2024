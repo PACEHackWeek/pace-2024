{
 "cells": [
  {
   "cell_type": "markdown",
   "id": "360aaed3",
   "metadata": {},
   "source": [
    "# Visualize Data from the Hyper-Angular Rainbow Polarimeter (HARP2)\n",
    "\n",
    "**Authors:** Sean Foley (NASA, MSU), Meng Gao (NASA, SSAI), Ian Carroll (NASA, UMBC)\n",
    "\n",
    "> **PREREQUISITES**\n",
    ">\n",
    "> This notebook has the following prerequisites:\n",
    "> - An **<a href=\"https://urs.earthdata.nasa.gov/\" target=\"_blank\">Earthdata Login</a>**\n",
    ">   account is required to access data from the NASA Earthdata system, including NASA ocean color data.\n",
    "> - Learn with OCI: <a href=\"https://oceancolor.gsfc.nasa.gov/resources/docs/tutorials/notebooks/oci_data_access/\" target=\"_blank\">Data Access</a>\n",
    "\n",
    "## Summary\n",
    "\n",
    "PACE has two Multi-Angle Polarimeters (MAPs): [SPEXOne](https://pace.oceansciences.org/spexone.htm) and [HARP2](https://pace.oceansciences.org/harp2.htm). These sensors offer unique data, which is useful for its own scientific purposes and also complements the data from OCI. Working with data from the MAPs requires you to understand both multi-angle data and some basic concepts about polarization. This notebook will walk you through some basic understanding and visualizations of multi-angle polarimetry, so that you feel comfortable incorporating this data into your future projects.\n",
    "\n",
    "## Learning objectives\n",
    "\n",
    "At the end of this notebook you will know:\n",
    "\n",
    "* How to acquire data from HARP2\n",
    "* How to plot geolocated imagery\n",
    "* Some basic concepts about polarization\n",
    "* How to make animations of multi-angle data\n",
    "\n",
    "<a name=\"toc\"></a>\n",
    "## Contents\n",
    "\n",
    "1. [Setup](#setup)\n",
    "1. [Get Level-1C Data](#data)\n",
    "1. [Understanding Multi-Angle Data](#multiangle)\n",
    "1. [Understanding Polarimetry](#polarimetry)\n",
    "1. [Radiance to Reflectance](#reflectance)\n",
    "1. [Animating an Overpass](#animation)\n",
    "\n",
    "<a name=\"setup\"></a>\n",
    "## 1. Setup\n",
    "\n",
    "First, import the libraries we will need."
   ]
  },
  {
   "cell_type": "code",
   "execution_count": 1,
   "id": "8d75d868",
   "metadata": {
    "execution": {
     "iopub.execute_input": "2024-06-20T00:32:27.522123Z",
     "iopub.status.busy": "2024-06-20T00:32:27.521592Z",
     "iopub.status.idle": "2024-06-20T00:32:27.669776Z",
     "shell.execute_reply": "2024-06-20T00:32:27.669106Z"
    },
    "lines_to_end_of_cell_marker": 2
   },
   "outputs": [
    {
     "ename": "ModuleNotFoundError",
     "evalue": "No module named 'apng'",
     "output_type": "error",
     "traceback": [
      "\u001b[0;31m---------------------------------------------------------------------------\u001b[0m",
      "\u001b[0;31mModuleNotFoundError\u001b[0m                       Traceback (most recent call last)",
      "Cell \u001b[0;32mIn[1], line 4\u001b[0m\n\u001b[1;32m      1\u001b[0m \u001b[38;5;28;01mfrom\u001b[39;00m \u001b[38;5;21;01mpathlib\u001b[39;00m \u001b[38;5;28;01mimport\u001b[39;00m Path\n\u001b[1;32m      2\u001b[0m \u001b[38;5;28;01mfrom\u001b[39;00m \u001b[38;5;21;01mtempfile\u001b[39;00m \u001b[38;5;28;01mimport\u001b[39;00m TemporaryDirectory\n\u001b[0;32m----> 4\u001b[0m \u001b[38;5;28;01mfrom\u001b[39;00m \u001b[38;5;21;01mapng\u001b[39;00m \u001b[38;5;28;01mimport\u001b[39;00m APNG\n\u001b[1;32m      5\u001b[0m \u001b[38;5;28;01mfrom\u001b[39;00m \u001b[38;5;21;01mscipy\u001b[39;00m\u001b[38;5;21;01m.\u001b[39;00m\u001b[38;5;21;01mndimage\u001b[39;00m \u001b[38;5;28;01mimport\u001b[39;00m gaussian_filter1d\n\u001b[1;32m      6\u001b[0m \u001b[38;5;28;01mimport\u001b[39;00m \u001b[38;5;21;01mcartopy\u001b[39;00m\u001b[38;5;21;01m.\u001b[39;00m\u001b[38;5;21;01mcrs\u001b[39;00m \u001b[38;5;28;01mas\u001b[39;00m \u001b[38;5;21;01mccrs\u001b[39;00m\n",
      "\u001b[0;31mModuleNotFoundError\u001b[0m: No module named 'apng'"
     ]
    }
   ],
   "source": [
    "from pathlib import Path\n",
    "from tempfile import TemporaryDirectory\n",
    "\n",
    "from apng import APNG\n",
    "from scipy.ndimage import gaussian_filter1d\n",
    "import cartopy.crs as ccrs\n",
    "import earthaccess\n",
    "import imageio\n",
    "import matplotlib.pyplot as plt\n",
    "import numpy as np\n",
    "import xarray as xr"
   ]
  },
  {
   "cell_type": "markdown",
   "id": "c82a7a00",
   "metadata": {
    "lines_to_next_cell": 2
   },
   "source": [
    "The radiances collected by HARP2 often need to be converted, using additional properties, to reflectances. Write a function for anything you'll repeat like this."
   ]
  },
  {
   "cell_type": "code",
   "execution_count": 2,
   "id": "aa4e8bbb",
   "metadata": {
    "execution": {
     "iopub.execute_input": "2024-06-20T00:32:27.672314Z",
     "iopub.status.busy": "2024-06-20T00:32:27.672059Z",
     "iopub.status.idle": "2024-06-20T00:32:27.675655Z",
     "shell.execute_reply": "2024-06-20T00:32:27.675115Z"
    }
   },
   "outputs": [],
   "source": [
    "def rad_to_refl(rad, f0, sza, r):\n",
    "    \"\"\"Convert radiance to reflectance.\n",
    "    Args:\n",
    "        rad: Radiance.\n",
    "        f0: Solar irradiance.\n",
    "        sza: Solar zenith angle.\n",
    "        r: Sun-Earth distance (in AU).\n",
    "\n",
    "    Returns: Reflectance.\n",
    "    \"\"\"\n",
    "    return (r**2) * np.pi * rad / np.cos(sza * np.pi / 180) * f0"
   ]
  },
  {
   "cell_type": "markdown",
   "id": "ba18c43c",
   "metadata": {},
   "source": [
    "[Back to top](#toc)\n",
    "<a name=\"data\"></a>\n",
    "## 2. Get Level-1C Data\n",
    "\n",
    "Download some HARP2 Level-1C data using the `short_name` value \"PACE_HARP2_L1C_SCI\" in `earthaccess.search_data`. Level-1C corresponds to geolocated imagery. This means the imagery coming from the satellite has been calibrated and assigned to locations on the Earth's surface. Note that this might take a while, depending on the speed of your internet connection, and the progress bar will seem frozen because we're only downloading one file."
   ]
  },
  {
   "cell_type": "code",
   "execution_count": 3,
   "id": "514eca38",
   "metadata": {
    "execution": {
     "iopub.execute_input": "2024-06-20T00:32:27.677863Z",
     "iopub.status.busy": "2024-06-20T00:32:27.677629Z",
     "iopub.status.idle": "2024-06-20T00:32:27.690821Z",
     "shell.execute_reply": "2024-06-20T00:32:27.690339Z"
    }
   },
   "outputs": [
    {
     "ename": "NameError",
     "evalue": "name 'earthaccess' is not defined",
     "output_type": "error",
     "traceback": [
      "\u001b[0;31m---------------------------------------------------------------------------\u001b[0m",
      "\u001b[0;31mNameError\u001b[0m                                 Traceback (most recent call last)",
      "Cell \u001b[0;32mIn[3], line 1\u001b[0m\n\u001b[0;32m----> 1\u001b[0m auth \u001b[38;5;241m=\u001b[39m \u001b[43mearthaccess\u001b[49m\u001b[38;5;241m.\u001b[39mlogin(persist\u001b[38;5;241m=\u001b[39m\u001b[38;5;28;01mTrue\u001b[39;00m)\n",
      "\u001b[0;31mNameError\u001b[0m: name 'earthaccess' is not defined"
     ]
    }
   ],
   "source": [
    "auth = earthaccess.login(persist=True)"
   ]
  },
  {
   "cell_type": "code",
   "execution_count": 4,
   "id": "06baf68b",
   "metadata": {
    "execution": {
     "iopub.execute_input": "2024-06-20T00:32:27.692945Z",
     "iopub.status.busy": "2024-06-20T00:32:27.692718Z",
     "iopub.status.idle": "2024-06-20T00:32:27.704968Z",
     "shell.execute_reply": "2024-06-20T00:32:27.704448Z"
    }
   },
   "outputs": [
    {
     "ename": "NameError",
     "evalue": "name 'earthaccess' is not defined",
     "output_type": "error",
     "traceback": [
      "\u001b[0;31m---------------------------------------------------------------------------\u001b[0m",
      "\u001b[0;31mNameError\u001b[0m                                 Traceback (most recent call last)",
      "Cell \u001b[0;32mIn[4], line 2\u001b[0m\n\u001b[1;32m      1\u001b[0m tspan \u001b[38;5;241m=\u001b[39m (\u001b[38;5;124m\"\u001b[39m\u001b[38;5;124m2024-05-20\u001b[39m\u001b[38;5;124m\"\u001b[39m, \u001b[38;5;124m\"\u001b[39m\u001b[38;5;124m2024-05-20\u001b[39m\u001b[38;5;124m\"\u001b[39m)\n\u001b[0;32m----> 2\u001b[0m results \u001b[38;5;241m=\u001b[39m \u001b[43mearthaccess\u001b[49m\u001b[38;5;241m.\u001b[39msearch_data(\n\u001b[1;32m      3\u001b[0m     short_name\u001b[38;5;241m=\u001b[39m\u001b[38;5;124m\"\u001b[39m\u001b[38;5;124mPACE_HARP2_L1C_SCI\u001b[39m\u001b[38;5;124m\"\u001b[39m,\n\u001b[1;32m      4\u001b[0m     temporal\u001b[38;5;241m=\u001b[39mtspan,\n\u001b[1;32m      5\u001b[0m     count\u001b[38;5;241m=\u001b[39m\u001b[38;5;241m1\u001b[39m,\n\u001b[1;32m      6\u001b[0m )\n",
      "\u001b[0;31mNameError\u001b[0m: name 'earthaccess' is not defined"
     ]
    }
   ],
   "source": [
    "tspan = (\"2024-05-20\", \"2024-05-20\")\n",
    "results = earthaccess.search_data(\n",
    "    short_name=\"PACE_HARP2_L1C_SCI\",\n",
    "    temporal=tspan,\n",
    "    count=1,\n",
    ")"
   ]
  },
  {
   "cell_type": "code",
   "execution_count": 5,
   "id": "b1093227",
   "metadata": {
    "execution": {
     "iopub.execute_input": "2024-06-20T00:32:27.707046Z",
     "iopub.status.busy": "2024-06-20T00:32:27.706821Z",
     "iopub.status.idle": "2024-06-20T00:32:27.723869Z",
     "shell.execute_reply": "2024-06-20T00:32:27.723363Z"
    }
   },
   "outputs": [
    {
     "ename": "NameError",
     "evalue": "name 'earthaccess' is not defined",
     "output_type": "error",
     "traceback": [
      "\u001b[0;31m---------------------------------------------------------------------------\u001b[0m",
      "\u001b[0;31mNameError\u001b[0m                                 Traceback (most recent call last)",
      "Cell \u001b[0;32mIn[5], line 1\u001b[0m\n\u001b[0;32m----> 1\u001b[0m paths \u001b[38;5;241m=\u001b[39m \u001b[43mearthaccess\u001b[49m\u001b[38;5;241m.\u001b[39mopen(results)\n",
      "\u001b[0;31mNameError\u001b[0m: name 'earthaccess' is not defined"
     ]
    }
   ],
   "source": [
    "paths = earthaccess.open(results)"
   ]
  },
  {
   "cell_type": "code",
   "execution_count": 6,
   "id": "8ba74dc9",
   "metadata": {
    "execution": {
     "iopub.execute_input": "2024-06-20T00:32:27.726174Z",
     "iopub.status.busy": "2024-06-20T00:32:27.725936Z",
     "iopub.status.idle": "2024-06-20T00:32:27.738866Z",
     "shell.execute_reply": "2024-06-20T00:32:27.738341Z"
    }
   },
   "outputs": [
    {
     "ename": "NameError",
     "evalue": "name 'xr' is not defined",
     "output_type": "error",
     "traceback": [
      "\u001b[0;31m---------------------------------------------------------------------------\u001b[0m",
      "\u001b[0;31mNameError\u001b[0m                                 Traceback (most recent call last)",
      "Cell \u001b[0;32mIn[6], line 1\u001b[0m\n\u001b[0;32m----> 1\u001b[0m prod \u001b[38;5;241m=\u001b[39m \u001b[43mxr\u001b[49m\u001b[38;5;241m.\u001b[39mopen_dataset(paths[\u001b[38;5;241m0\u001b[39m])\n\u001b[1;32m      2\u001b[0m view \u001b[38;5;241m=\u001b[39m xr\u001b[38;5;241m.\u001b[39mopen_dataset(paths[\u001b[38;5;241m0\u001b[39m], group\u001b[38;5;241m=\u001b[39m\u001b[38;5;124m\"\u001b[39m\u001b[38;5;124msensor_views_bands\u001b[39m\u001b[38;5;124m\"\u001b[39m)\u001b[38;5;241m.\u001b[39msqueeze()\n\u001b[1;32m      3\u001b[0m geo \u001b[38;5;241m=\u001b[39m xr\u001b[38;5;241m.\u001b[39mopen_dataset(paths[\u001b[38;5;241m0\u001b[39m], group\u001b[38;5;241m=\u001b[39m\u001b[38;5;124m\"\u001b[39m\u001b[38;5;124mgeolocation_data\u001b[39m\u001b[38;5;124m\"\u001b[39m)\n",
      "\u001b[0;31mNameError\u001b[0m: name 'xr' is not defined"
     ]
    }
   ],
   "source": [
    "prod = xr.open_dataset(paths[0])\n",
    "view = xr.open_dataset(paths[0], group=\"sensor_views_bands\").squeeze()\n",
    "geo = xr.open_dataset(paths[0], group=\"geolocation_data\")\n",
    "obs = xr.open_dataset(paths[0], group=\"observation_data\").squeeze()"
   ]
  },
  {
   "cell_type": "markdown",
   "id": "404e3a60",
   "metadata": {},
   "source": [
    "[Back to top](#toc)\n",
    "<a name=\"multiangle\"></a>\n",
    "## 2. Understanding Multi-Angle Data\n",
    "\n",
    "HARP2 is a multi-spectral sensor, like OCI, with 4 spectral bands. These roughly correspond to green, red, near infrared (NIR), and blue (in that order). HARP2 is also multi-angle. These angles are with respect to the satellite track. Essentially, HARP2 is always looking ahead, looking behind, and everywhere in between. The number of angles varies per sensor. The red band has 60 angles, while the green, blue, and NIR bands each have 10.\n",
    "\n",
    "In the HARP2 data, the angles and the spectral bands are combined into one axis. I'll refer to this combined axis as HARP2's \"channels.\" Below, we'll make a quick plot both the viewing angles and the wavelengths of HARP2's channels. In both plots, the x-axis is simply the channel index.\n",
    "\n",
    "Pull out the view angles and wavelengths."
   ]
  },
  {
   "cell_type": "code",
   "execution_count": 7,
   "id": "c1dc8e52",
   "metadata": {
    "execution": {
     "iopub.execute_input": "2024-06-20T00:32:27.741219Z",
     "iopub.status.busy": "2024-06-20T00:32:27.740993Z",
     "iopub.status.idle": "2024-06-20T00:32:27.752181Z",
     "shell.execute_reply": "2024-06-20T00:32:27.751685Z"
    }
   },
   "outputs": [
    {
     "ename": "NameError",
     "evalue": "name 'view' is not defined",
     "output_type": "error",
     "traceback": [
      "\u001b[0;31m---------------------------------------------------------------------------\u001b[0m",
      "\u001b[0;31mNameError\u001b[0m                                 Traceback (most recent call last)",
      "Cell \u001b[0;32mIn[7], line 1\u001b[0m\n\u001b[0;32m----> 1\u001b[0m angles \u001b[38;5;241m=\u001b[39m \u001b[43mview\u001b[49m[\u001b[38;5;124m\"\u001b[39m\u001b[38;5;124msensor_view_angle\u001b[39m\u001b[38;5;124m\"\u001b[39m]\n\u001b[1;32m      2\u001b[0m wavelengths \u001b[38;5;241m=\u001b[39m view[\u001b[38;5;124m\"\u001b[39m\u001b[38;5;124mintensity_wavelength\u001b[39m\u001b[38;5;124m\"\u001b[39m]\n",
      "\u001b[0;31mNameError\u001b[0m: name 'view' is not defined"
     ]
    }
   ],
   "source": [
    "angles = view[\"sensor_view_angle\"]\n",
    "wavelengths = view[\"intensity_wavelength\"]"
   ]
  },
  {
   "cell_type": "markdown",
   "id": "bb9838ed",
   "metadata": {},
   "source": [
    "Create a figure with 2 rows and 1 column and a reasonable size for many screens."
   ]
  },
  {
   "cell_type": "code",
   "execution_count": 8,
   "id": "e17f9da6",
   "metadata": {
    "execution": {
     "iopub.execute_input": "2024-06-20T00:32:27.754421Z",
     "iopub.status.busy": "2024-06-20T00:32:27.754191Z",
     "iopub.status.idle": "2024-06-20T00:32:27.772110Z",
     "shell.execute_reply": "2024-06-20T00:32:27.771583Z"
    }
   },
   "outputs": [
    {
     "ename": "NameError",
     "evalue": "name 'plt' is not defined",
     "output_type": "error",
     "traceback": [
      "\u001b[0;31m---------------------------------------------------------------------------\u001b[0m",
      "\u001b[0;31mNameError\u001b[0m                                 Traceback (most recent call last)",
      "Cell \u001b[0;32mIn[8], line 1\u001b[0m\n\u001b[0;32m----> 1\u001b[0m fig, ax \u001b[38;5;241m=\u001b[39m \u001b[43mplt\u001b[49m\u001b[38;5;241m.\u001b[39msubplots(\u001b[38;5;241m2\u001b[39m, \u001b[38;5;241m1\u001b[39m, figsize\u001b[38;5;241m=\u001b[39m(\u001b[38;5;241m14\u001b[39m, \u001b[38;5;241m7\u001b[39m))\n\u001b[1;32m      2\u001b[0m ax[\u001b[38;5;241m0\u001b[39m]\u001b[38;5;241m.\u001b[39mset_ylabel(\u001b[38;5;124m\"\u001b[39m\u001b[38;5;124mView Angle (degrees)\u001b[39m\u001b[38;5;124m\"\u001b[39m)\n\u001b[1;32m      3\u001b[0m ax[\u001b[38;5;241m0\u001b[39m]\u001b[38;5;241m.\u001b[39mset_xlabel(\u001b[38;5;124m\"\u001b[39m\u001b[38;5;124mIndex\u001b[39m\u001b[38;5;124m\"\u001b[39m)\n",
      "\u001b[0;31mNameError\u001b[0m: name 'plt' is not defined"
     ]
    }
   ],
   "source": [
    "fig, ax = plt.subplots(2, 1, figsize=(14, 7))\n",
    "ax[0].set_ylabel(\"View Angle (degrees)\")\n",
    "ax[0].set_xlabel(\"Index\")\n",
    "ax[1].set_ylabel(\"Wavelength (nm)\")\n",
    "ax[1].set_xlabel(\"Index\")\n",
    "plot_data = [\n",
    "    (0, 10, \"green\", \"^\", \"green\"),\n",
    "    (10, 70, \"red\", \"*\", \"red\"),\n",
    "    (70, 80, \"black\", \"s\", \"NIR\"),\n",
    "    (80, 90, \"blue\", \"o\", \"blue\"),\n",
    "]\n",
    "for start_idx, end_idx, color, marker, label in plot_data:\n",
    "    ax[0].plot(\n",
    "        np.arange(start_idx, end_idx),\n",
    "        angles[start_idx:end_idx],\n",
    "        color=color,\n",
    "        marker=marker,\n",
    "        label=label,\n",
    "    )\n",
    "    ax[1].plot(\n",
    "        np.arange(start_idx, end_idx),\n",
    "        wavelengths[start_idx:end_idx],\n",
    "        color=color,\n",
    "        marker=marker,\n",
    "        label=label,\n",
    "    )\n",
    "ax[0].legend()\n",
    "ax[1].legend()\n",
    "plt.show()"
   ]
  },
  {
   "cell_type": "markdown",
   "id": "8886105a",
   "metadata": {},
   "source": [
    "[Back to top](#toc)\n",
    "<a name=\"polarimetry\"></a>\n",
    "## 3. Understanding Polarimetry\n",
    "\n",
    "HARP2 is sensitive to the polarization of light. Polarization describes the geometric orientation of the oscillation of light waves. Randomly polarized light (like light coming directly from the sun) has an approximately equal amount of waves in every orientation. When light reflects of certain surfaces, it can become nonrandomly polarized.\n",
    "\n",
    "Polarimetric data is typically represented using [Stokes vectors](https://en.wikipedia.org/wiki/Stokes_parameters). These have four components: I, Q, U, and V. HARP2 is only sensitive to linear polarization, and does not detect circular polarization. Since the V component corresponds to circular polarization, the data only includes the I, Q, and U elements of the Stokes vector.\n",
    "\n",
    "Let's make a plot of the I, Q, and U components of our Stokes vector, using the RGB channels, which will help our eyes make sense of the data. We'll use the view that is closest to pointing straight down, which is called the \"nadir\" view in the code. It is important to understand that, because HARP2 is a pushbroom sensor with a wide swath, the sensor zenith angle at the edges of the swath will still be high. It's only a true nadir view close to the center of the swath. Still, the average sensor zenith angle will be lowest in this view.)\n",
    "\n",
    "The I, Q, and U components of the Stokes vector are separate variables in the `obs` dataset."
   ]
  },
  {
   "cell_type": "code",
   "execution_count": 9,
   "id": "7b8297a5",
   "metadata": {
    "execution": {
     "iopub.execute_input": "2024-06-20T00:32:27.774301Z",
     "iopub.status.busy": "2024-06-20T00:32:27.774074Z",
     "iopub.status.idle": "2024-06-20T00:32:27.786219Z",
     "shell.execute_reply": "2024-06-20T00:32:27.785719Z"
    }
   },
   "outputs": [
    {
     "ename": "NameError",
     "evalue": "name 'obs' is not defined",
     "output_type": "error",
     "traceback": [
      "\u001b[0;31m---------------------------------------------------------------------------\u001b[0m",
      "\u001b[0;31mNameError\u001b[0m                                 Traceback (most recent call last)",
      "Cell \u001b[0;32mIn[9], line 1\u001b[0m\n\u001b[0;32m----> 1\u001b[0m stokes \u001b[38;5;241m=\u001b[39m \u001b[43mobs\u001b[49m[[\u001b[38;5;124m\"\u001b[39m\u001b[38;5;124mi\u001b[39m\u001b[38;5;124m\"\u001b[39m, \u001b[38;5;124m\"\u001b[39m\u001b[38;5;124mq\u001b[39m\u001b[38;5;124m\"\u001b[39m, \u001b[38;5;124m\"\u001b[39m\u001b[38;5;124mu\u001b[39m\u001b[38;5;124m\"\u001b[39m]]\n",
      "\u001b[0;31mNameError\u001b[0m: name 'obs' is not defined"
     ]
    }
   ],
   "source": [
    "stokes = obs[[\"i\", \"q\", \"u\"]]"
   ]
  },
  {
   "cell_type": "markdown",
   "id": "fd410a38",
   "metadata": {},
   "source": [
    "The first 10 channels are green, the next 60 channels are red, and the final 10 channels are blue (we're skipping NIR).\n",
    "In each of those groups of channels, we get the index of the minimum absolute value of the camera angle, corresponding to our nadir view."
   ]
  },
  {
   "cell_type": "code",
   "execution_count": 10,
   "id": "a7a66055",
   "metadata": {
    "execution": {
     "iopub.execute_input": "2024-06-20T00:32:27.788341Z",
     "iopub.status.busy": "2024-06-20T00:32:27.788122Z",
     "iopub.status.idle": "2024-06-20T00:32:27.800695Z",
     "shell.execute_reply": "2024-06-20T00:32:27.800156Z"
    }
   },
   "outputs": [
    {
     "ename": "NameError",
     "evalue": "name 'np' is not defined",
     "output_type": "error",
     "traceback": [
      "\u001b[0;31m---------------------------------------------------------------------------\u001b[0m",
      "\u001b[0;31mNameError\u001b[0m                                 Traceback (most recent call last)",
      "Cell \u001b[0;32mIn[10], line 1\u001b[0m\n\u001b[0;32m----> 1\u001b[0m green_nadir_idx \u001b[38;5;241m=\u001b[39m \u001b[43mnp\u001b[49m\u001b[38;5;241m.\u001b[39margmin(np\u001b[38;5;241m.\u001b[39mabs(angles[:\u001b[38;5;241m10\u001b[39m]\u001b[38;5;241m.\u001b[39mvalues))\n\u001b[1;32m      2\u001b[0m red_nadir_idx \u001b[38;5;241m=\u001b[39m \u001b[38;5;241m10\u001b[39m \u001b[38;5;241m+\u001b[39m np\u001b[38;5;241m.\u001b[39margmin(np\u001b[38;5;241m.\u001b[39mabs(angles[\u001b[38;5;241m10\u001b[39m:\u001b[38;5;241m70\u001b[39m]\u001b[38;5;241m.\u001b[39mvalues))\n\u001b[1;32m      3\u001b[0m blue_nadir_idx \u001b[38;5;241m=\u001b[39m \u001b[38;5;241m80\u001b[39m \u001b[38;5;241m+\u001b[39m np\u001b[38;5;241m.\u001b[39margmin(np\u001b[38;5;241m.\u001b[39mabs(angles[\u001b[38;5;241m80\u001b[39m:]\u001b[38;5;241m.\u001b[39mvalues))\n",
      "\u001b[0;31mNameError\u001b[0m: name 'np' is not defined"
     ]
    }
   ],
   "source": [
    "green_nadir_idx = np.argmin(np.abs(angles[:10].values))\n",
    "red_nadir_idx = 10 + np.argmin(np.abs(angles[10:70].values))\n",
    "blue_nadir_idx = 80 + np.argmin(np.abs(angles[80:].values))"
   ]
  },
  {
   "cell_type": "markdown",
   "id": "52fee528",
   "metadata": {},
   "source": [
    "Then, get the data at the nadir indices."
   ]
  },
  {
   "cell_type": "code",
   "execution_count": 11,
   "id": "5169a2c9",
   "metadata": {
    "execution": {
     "iopub.execute_input": "2024-06-20T00:32:27.802940Z",
     "iopub.status.busy": "2024-06-20T00:32:27.802721Z",
     "iopub.status.idle": "2024-06-20T00:32:27.814336Z",
     "shell.execute_reply": "2024-06-20T00:32:27.813781Z"
    }
   },
   "outputs": [
    {
     "ename": "NameError",
     "evalue": "name 'stokes' is not defined",
     "output_type": "error",
     "traceback": [
      "\u001b[0;31m---------------------------------------------------------------------------\u001b[0m",
      "\u001b[0;31mNameError\u001b[0m                                 Traceback (most recent call last)",
      "Cell \u001b[0;32mIn[11], line 1\u001b[0m\n\u001b[0;32m----> 1\u001b[0m rgb_stokes \u001b[38;5;241m=\u001b[39m \u001b[43mstokes\u001b[49m\u001b[38;5;241m.\u001b[39misel(\n\u001b[1;32m      2\u001b[0m     {\n\u001b[1;32m      3\u001b[0m         \u001b[38;5;124m\"\u001b[39m\u001b[38;5;124mnumber_of_views\u001b[39m\u001b[38;5;124m\"\u001b[39m: [red_nadir_idx, green_nadir_idx, blue_nadir_idx],\n\u001b[1;32m      4\u001b[0m     }\n\u001b[1;32m      5\u001b[0m )\n",
      "\u001b[0;31mNameError\u001b[0m: name 'stokes' is not defined"
     ]
    }
   ],
   "source": [
    "rgb_stokes = stokes.isel(\n",
    "    {\n",
    "        \"number_of_views\": [red_nadir_idx, green_nadir_idx, blue_nadir_idx],\n",
    "    }\n",
    ")"
   ]
  },
  {
   "cell_type": "markdown",
   "id": "103ca4e9",
   "metadata": {},
   "source": [
    "A few adjustments make the image easier to visualize. First, normalize the data between 0 and 1. Second, bring out some of the darker colors."
   ]
  },
  {
   "cell_type": "code",
   "execution_count": 12,
   "id": "eb9665c4",
   "metadata": {
    "execution": {
     "iopub.execute_input": "2024-06-20T00:32:27.816607Z",
     "iopub.status.busy": "2024-06-20T00:32:27.816352Z",
     "iopub.status.idle": "2024-06-20T00:32:27.828396Z",
     "shell.execute_reply": "2024-06-20T00:32:27.827893Z"
    }
   },
   "outputs": [
    {
     "ename": "NameError",
     "evalue": "name 'rgb_stokes' is not defined",
     "output_type": "error",
     "traceback": [
      "\u001b[0;31m---------------------------------------------------------------------------\u001b[0m",
      "\u001b[0;31mNameError\u001b[0m                                 Traceback (most recent call last)",
      "Cell \u001b[0;32mIn[12], line 1\u001b[0m\n\u001b[0;32m----> 1\u001b[0m rgb_stokes \u001b[38;5;241m=\u001b[39m (\u001b[43mrgb_stokes\u001b[49m \u001b[38;5;241m-\u001b[39m rgb_stokes\u001b[38;5;241m.\u001b[39mmin()) \u001b[38;5;241m/\u001b[39m (rgb_stokes\u001b[38;5;241m.\u001b[39mmax() \u001b[38;5;241m-\u001b[39m rgb_stokes\u001b[38;5;241m.\u001b[39mmin())\n\u001b[1;32m      2\u001b[0m rgb_stokes \u001b[38;5;241m=\u001b[39m rgb_stokes \u001b[38;5;241m*\u001b[39m\u001b[38;5;241m*\u001b[39m (\u001b[38;5;241m3\u001b[39m \u001b[38;5;241m/\u001b[39m \u001b[38;5;241m4\u001b[39m)\n",
      "\u001b[0;31mNameError\u001b[0m: name 'rgb_stokes' is not defined"
     ]
    }
   ],
   "source": [
    "rgb_stokes = (rgb_stokes - rgb_stokes.min()) / (rgb_stokes.max() - rgb_stokes.min())\n",
    "rgb_stokes = rgb_stokes ** (3 / 4)"
   ]
  },
  {
   "cell_type": "markdown",
   "id": "ba38d33b",
   "metadata": {},
   "source": [
    "Add latitude and longitude as auxilliary (i.e. non-index) coordinates to use in the map projection."
   ]
  },
  {
   "cell_type": "code",
   "execution_count": 13,
   "id": "72609ac4",
   "metadata": {
    "execution": {
     "iopub.execute_input": "2024-06-20T00:32:27.830671Z",
     "iopub.status.busy": "2024-06-20T00:32:27.830445Z",
     "iopub.status.idle": "2024-06-20T00:32:27.842151Z",
     "shell.execute_reply": "2024-06-20T00:32:27.841637Z"
    }
   },
   "outputs": [
    {
     "ename": "NameError",
     "evalue": "name 'rgb_stokes' is not defined",
     "output_type": "error",
     "traceback": [
      "\u001b[0;31m---------------------------------------------------------------------------\u001b[0m",
      "\u001b[0;31mNameError\u001b[0m                                 Traceback (most recent call last)",
      "Cell \u001b[0;32mIn[13], line 1\u001b[0m\n\u001b[0;32m----> 1\u001b[0m rgb_stokes \u001b[38;5;241m=\u001b[39m \u001b[43mrgb_stokes\u001b[49m\u001b[38;5;241m.\u001b[39massign_coords(\n\u001b[1;32m      2\u001b[0m     {\n\u001b[1;32m      3\u001b[0m         \u001b[38;5;124m\"\u001b[39m\u001b[38;5;124mlat\u001b[39m\u001b[38;5;124m\"\u001b[39m: geo[\u001b[38;5;124m\"\u001b[39m\u001b[38;5;124mlatitude\u001b[39m\u001b[38;5;124m\"\u001b[39m],\n\u001b[1;32m      4\u001b[0m         \u001b[38;5;124m\"\u001b[39m\u001b[38;5;124mlon\u001b[39m\u001b[38;5;124m\"\u001b[39m: geo[\u001b[38;5;124m\"\u001b[39m\u001b[38;5;124mlongitude\u001b[39m\u001b[38;5;124m\"\u001b[39m],\n\u001b[1;32m      5\u001b[0m     }\n\u001b[1;32m      6\u001b[0m )\n",
      "\u001b[0;31mNameError\u001b[0m: name 'rgb_stokes' is not defined"
     ]
    }
   ],
   "source": [
    "rgb_stokes = rgb_stokes.assign_coords(\n",
    "    {\n",
    "        \"lat\": geo[\"latitude\"],\n",
    "        \"lon\": geo[\"longitude\"],\n",
    "    }\n",
    ")"
   ]
  },
  {
   "cell_type": "markdown",
   "id": "96c9e039",
   "metadata": {},
   "source": [
    "Since the nadir view is not processed at swath edges, a better image will result from finding a valid window within the dataset. Using just the array for the I component, we crop the `rgb_stokes` dataset using the `where` attribute and some boolean logic applied across different dimensions of the array."
   ]
  },
  {
   "cell_type": "code",
   "execution_count": 14,
   "id": "1d3d565a",
   "metadata": {
    "execution": {
     "iopub.execute_input": "2024-06-20T00:32:27.844612Z",
     "iopub.status.busy": "2024-06-20T00:32:27.844180Z",
     "iopub.status.idle": "2024-06-20T00:32:27.856765Z",
     "shell.execute_reply": "2024-06-20T00:32:27.856213Z"
    }
   },
   "outputs": [
    {
     "ename": "NameError",
     "evalue": "name 'rgb_stokes' is not defined",
     "output_type": "error",
     "traceback": [
      "\u001b[0;31m---------------------------------------------------------------------------\u001b[0m",
      "\u001b[0;31mNameError\u001b[0m                                 Traceback (most recent call last)",
      "Cell \u001b[0;32mIn[14], line 1\u001b[0m\n\u001b[0;32m----> 1\u001b[0m window \u001b[38;5;241m=\u001b[39m \u001b[43mrgb_stokes\u001b[49m[\u001b[38;5;124m\"\u001b[39m\u001b[38;5;124mi\u001b[39m\u001b[38;5;124m\"\u001b[39m]\u001b[38;5;241m.\u001b[39mnotnull()\u001b[38;5;241m.\u001b[39mall(\u001b[38;5;124m\"\u001b[39m\u001b[38;5;124mnumber_of_views\u001b[39m\u001b[38;5;124m\"\u001b[39m)\n\u001b[1;32m      2\u001b[0m crop_rgb_stokes \u001b[38;5;241m=\u001b[39m rgb_stokes\u001b[38;5;241m.\u001b[39mwhere(\n\u001b[1;32m      3\u001b[0m     window\u001b[38;5;241m.\u001b[39many(\u001b[38;5;124m\"\u001b[39m\u001b[38;5;124mbins_along_track\u001b[39m\u001b[38;5;124m\"\u001b[39m) \u001b[38;5;241m&\u001b[39m window\u001b[38;5;241m.\u001b[39many(\u001b[38;5;124m\"\u001b[39m\u001b[38;5;124mbins_across_track\u001b[39m\u001b[38;5;124m\"\u001b[39m),\n\u001b[1;32m      4\u001b[0m     drop\u001b[38;5;241m=\u001b[39m\u001b[38;5;28;01mTrue\u001b[39;00m,\n\u001b[1;32m      5\u001b[0m )\n",
      "\u001b[0;31mNameError\u001b[0m: name 'rgb_stokes' is not defined"
     ]
    }
   ],
   "source": [
    "window = rgb_stokes[\"i\"].notnull().all(\"number_of_views\")\n",
    "crop_rgb_stokes = rgb_stokes.where(\n",
    "    window.any(\"bins_along_track\") & window.any(\"bins_across_track\"),\n",
    "    drop=True,\n",
    ")"
   ]
  },
  {
   "cell_type": "markdown",
   "id": "1500f376",
   "metadata": {},
   "source": [
    "The granule crosses the 180 degree longitude, so we set up the figure and subplots to use a Plate Carree projection shifted to center on a -170 longitude. The data has coordinates from the default (i.e. centered at 0 longitude) Plate Carree projection, so we give that CRS as a `transform`.\n",
    "\n",
    "The figure will hav 1 row and 3 columns, for each of the I, Q, and U arrays, spanning a width suitable for many screens."
   ]
  },
  {
   "cell_type": "code",
   "execution_count": 15,
   "id": "11cdc84c",
   "metadata": {
    "execution": {
     "iopub.execute_input": "2024-06-20T00:32:27.858876Z",
     "iopub.status.busy": "2024-06-20T00:32:27.858651Z",
     "iopub.status.idle": "2024-06-20T00:32:27.876097Z",
     "shell.execute_reply": "2024-06-20T00:32:27.875527Z"
    }
   },
   "outputs": [
    {
     "ename": "NameError",
     "evalue": "name 'ccrs' is not defined",
     "output_type": "error",
     "traceback": [
      "\u001b[0;31m---------------------------------------------------------------------------\u001b[0m",
      "\u001b[0;31mNameError\u001b[0m                                 Traceback (most recent call last)",
      "Cell \u001b[0;32mIn[15], line 1\u001b[0m\n\u001b[0;32m----> 1\u001b[0m crs \u001b[38;5;241m=\u001b[39m \u001b[43mccrs\u001b[49m\u001b[38;5;241m.\u001b[39mPlateCarree(\u001b[38;5;241m-\u001b[39m\u001b[38;5;241m170\u001b[39m)\n\u001b[1;32m      2\u001b[0m fig, ax \u001b[38;5;241m=\u001b[39m plt\u001b[38;5;241m.\u001b[39msubplots(\u001b[38;5;241m1\u001b[39m, \u001b[38;5;241m3\u001b[39m, figsize\u001b[38;5;241m=\u001b[39m(\u001b[38;5;241m16\u001b[39m, \u001b[38;5;241m5\u001b[39m), subplot_kw\u001b[38;5;241m=\u001b[39m{\u001b[38;5;124m\"\u001b[39m\u001b[38;5;124mprojection\u001b[39m\u001b[38;5;124m\"\u001b[39m: crs})\n\u001b[1;32m      3\u001b[0m fig\u001b[38;5;241m.\u001b[39msuptitle(\u001b[38;5;124mf\u001b[39m\u001b[38;5;124m'\u001b[39m\u001b[38;5;132;01m{\u001b[39;00mprod\u001b[38;5;241m.\u001b[39mattrs[\u001b[38;5;124m\"\u001b[39m\u001b[38;5;124mproduct_name\u001b[39m\u001b[38;5;124m\"\u001b[39m]\u001b[38;5;132;01m}\u001b[39;00m\u001b[38;5;124m RGB\u001b[39m\u001b[38;5;124m'\u001b[39m)\n",
      "\u001b[0;31mNameError\u001b[0m: name 'ccrs' is not defined"
     ]
    }
   ],
   "source": [
    "crs = ccrs.PlateCarree(-170)\n",
    "fig, ax = plt.subplots(1, 3, figsize=(16, 5), subplot_kw={\"projection\": crs})\n",
    "fig.suptitle(f'{prod.attrs[\"product_name\"]} RGB')\n",
    "\n",
    "for i, (key, value) in enumerate(crop_rgb_stokes.items()):\n",
    "    ax[i].pcolormesh(value[\"lon\"], value[\"lat\"], value, transform=ccrs.PlateCarree())\n",
    "    ax[i].gridlines(draw_labels={\"bottom\": \"x\", \"left\": \"y\"}, linestyle=\"--\")\n",
    "    ax[i].coastlines(color=\"grey\")\n",
    "    ax[i].set_title(key.capitalize())"
   ]
  },
  {
   "cell_type": "markdown",
   "id": "a1e075cb",
   "metadata": {},
   "source": [
    "It's pretty plain to see that the I plot makes sense to the eye: we can see clouds over the Pacific Ocean (this scene is south of the Cook Islands and east of Australia). This is because the I component of the Stokes vector corresponds to the total intensity. In other words, this is roughly what your eyes would see. However, the Q and U plots don't quite make as much sense to the eye. We can see that there is some sort of transition in the middle, which is the satellite track. This transition occurs in both plots, but is stronger in Q. This gives us a hint: the type of linear polarization we see in the scene depends on the angle with which we view the scene.\n",
    "\n",
    "[This Wikipedia plot](https://upload.wikimedia.org/wikipedia/commons/3/31/StokesParameters.png) is very helpful for understanding what exactly the Q and U components of the Stokes vector mean. Q describes how much the light is oriented in -90°/90° vs. 0°/180°, while U describes how much light is oriented in -135°/45°; vs. -45°/135°.\n",
    "\n",
    "Next, let's take a look at the degree of linear polarization (DoLP)."
   ]
  },
  {
   "cell_type": "code",
   "execution_count": 16,
   "id": "123ef3ca",
   "metadata": {
    "execution": {
     "iopub.execute_input": "2024-06-20T00:32:27.878289Z",
     "iopub.status.busy": "2024-06-20T00:32:27.878059Z",
     "iopub.status.idle": "2024-06-20T00:32:27.920241Z",
     "shell.execute_reply": "2024-06-20T00:32:27.919677Z"
    }
   },
   "outputs": [
    {
     "ename": "NameError",
     "evalue": "name 'obs' is not defined",
     "output_type": "error",
     "traceback": [
      "\u001b[0;31m---------------------------------------------------------------------------\u001b[0m",
      "\u001b[0;31mNameError\u001b[0m                                 Traceback (most recent call last)",
      "Cell \u001b[0;32mIn[16], line 1\u001b[0m\n\u001b[0;32m----> 1\u001b[0m rgb_dolp \u001b[38;5;241m=\u001b[39m \u001b[43mobs\u001b[49m[\u001b[38;5;124m\"\u001b[39m\u001b[38;5;124mdolp\u001b[39m\u001b[38;5;124m\"\u001b[39m]\u001b[38;5;241m.\u001b[39misel(\n\u001b[1;32m      2\u001b[0m     {\n\u001b[1;32m      3\u001b[0m         \u001b[38;5;124m\"\u001b[39m\u001b[38;5;124mnumber_of_views\u001b[39m\u001b[38;5;124m\"\u001b[39m: [red_nadir_idx, green_nadir_idx, blue_nadir_idx],\n\u001b[1;32m      4\u001b[0m     }\n\u001b[1;32m      5\u001b[0m )\n\u001b[1;32m      6\u001b[0m crop_rgb_dolp \u001b[38;5;241m=\u001b[39m rgb_dolp\u001b[38;5;241m.\u001b[39mwhere(\n\u001b[1;32m      7\u001b[0m     window\u001b[38;5;241m.\u001b[39many(\u001b[38;5;124m\"\u001b[39m\u001b[38;5;124mbins_along_track\u001b[39m\u001b[38;5;124m\"\u001b[39m) \u001b[38;5;241m&\u001b[39m window\u001b[38;5;241m.\u001b[39many(\u001b[38;5;124m\"\u001b[39m\u001b[38;5;124mbins_across_track\u001b[39m\u001b[38;5;124m\"\u001b[39m),\n\u001b[1;32m      8\u001b[0m     drop\u001b[38;5;241m=\u001b[39m\u001b[38;5;28;01mTrue\u001b[39;00m,\n\u001b[1;32m      9\u001b[0m )\n\u001b[1;32m     10\u001b[0m crop_rgb \u001b[38;5;241m=\u001b[39m xr\u001b[38;5;241m.\u001b[39mmerge((crop_rgb_dolp, crop_rgb_stokes))\n",
      "\u001b[0;31mNameError\u001b[0m: name 'obs' is not defined"
     ]
    }
   ],
   "source": [
    "rgb_dolp = obs[\"dolp\"].isel(\n",
    "    {\n",
    "        \"number_of_views\": [red_nadir_idx, green_nadir_idx, blue_nadir_idx],\n",
    "    }\n",
    ")\n",
    "crop_rgb_dolp = rgb_dolp.where(\n",
    "    window.any(\"bins_along_track\") & window.any(\"bins_across_track\"),\n",
    "    drop=True,\n",
    ")\n",
    "crop_rgb = xr.merge((crop_rgb_dolp, crop_rgb_stokes))"
   ]
  },
  {
   "cell_type": "markdown",
   "id": "3c200029",
   "metadata": {},
   "source": [
    "Create a figure with 1 row and 2 columns, having a good width for many screens, that will use the projection defined above. For the two columns, we iterate over just the I and DoLP arrays."
   ]
  },
  {
   "cell_type": "code",
   "execution_count": 17,
   "id": "0871d877",
   "metadata": {
    "execution": {
     "iopub.execute_input": "2024-06-20T00:32:27.922603Z",
     "iopub.status.busy": "2024-06-20T00:32:27.922366Z",
     "iopub.status.idle": "2024-06-20T00:32:27.938230Z",
     "shell.execute_reply": "2024-06-20T00:32:27.937690Z"
    }
   },
   "outputs": [
    {
     "ename": "NameError",
     "evalue": "name 'plt' is not defined",
     "output_type": "error",
     "traceback": [
      "\u001b[0;31m---------------------------------------------------------------------------\u001b[0m",
      "\u001b[0;31mNameError\u001b[0m                                 Traceback (most recent call last)",
      "Cell \u001b[0;32mIn[17], line 1\u001b[0m\n\u001b[0;32m----> 1\u001b[0m fig, ax \u001b[38;5;241m=\u001b[39m \u001b[43mplt\u001b[49m\u001b[38;5;241m.\u001b[39msubplots(\u001b[38;5;241m1\u001b[39m, \u001b[38;5;241m2\u001b[39m, figsize\u001b[38;5;241m=\u001b[39m(\u001b[38;5;241m16\u001b[39m, \u001b[38;5;241m8\u001b[39m), subplot_kw\u001b[38;5;241m=\u001b[39m{\u001b[38;5;124m\"\u001b[39m\u001b[38;5;124mprojection\u001b[39m\u001b[38;5;124m\"\u001b[39m: crs})\n\u001b[1;32m      2\u001b[0m fig\u001b[38;5;241m.\u001b[39msuptitle(\u001b[38;5;124mf\u001b[39m\u001b[38;5;124m'\u001b[39m\u001b[38;5;132;01m{\u001b[39;00mprod\u001b[38;5;241m.\u001b[39mattrs[\u001b[38;5;124m\"\u001b[39m\u001b[38;5;124mproduct_name\u001b[39m\u001b[38;5;124m\"\u001b[39m]\u001b[38;5;132;01m}\u001b[39;00m\u001b[38;5;124m RGB\u001b[39m\u001b[38;5;124m'\u001b[39m)\n\u001b[1;32m      4\u001b[0m \u001b[38;5;28;01mfor\u001b[39;00m i, (key, value) \u001b[38;5;129;01min\u001b[39;00m \u001b[38;5;28menumerate\u001b[39m(crop_rgb[[\u001b[38;5;124m\"\u001b[39m\u001b[38;5;124mi\u001b[39m\u001b[38;5;124m\"\u001b[39m, \u001b[38;5;124m\"\u001b[39m\u001b[38;5;124mdolp\u001b[39m\u001b[38;5;124m\"\u001b[39m]]\u001b[38;5;241m.\u001b[39mitems()):\n",
      "\u001b[0;31mNameError\u001b[0m: name 'plt' is not defined"
     ]
    }
   ],
   "source": [
    "fig, ax = plt.subplots(1, 2, figsize=(16, 8), subplot_kw={\"projection\": crs})\n",
    "fig.suptitle(f'{prod.attrs[\"product_name\"]} RGB')\n",
    "\n",
    "for i, (key, value) in enumerate(crop_rgb[[\"i\", \"dolp\"]].items()):\n",
    "    ax[i].pcolormesh(value[\"lon\"], value[\"lat\"], value, transform=ccrs.PlateCarree())\n",
    "    ax[i].gridlines(draw_labels={\"bottom\": \"x\", \"left\": \"y\"}, linestyle=\"--\")\n",
    "    ax[i].coastlines(color=\"grey\")\n",
    "    ax[i].set_title(key.capitalize())"
   ]
  },
  {
   "cell_type": "markdown",
   "id": "c194ea8e",
   "metadata": {},
   "source": [
    "DoLP line plot"
   ]
  },
  {
   "cell_type": "code",
   "execution_count": 18,
   "id": "f1466c57",
   "metadata": {
    "execution": {
     "iopub.execute_input": "2024-06-20T00:32:27.940705Z",
     "iopub.status.busy": "2024-06-20T00:32:27.940348Z",
     "iopub.status.idle": "2024-06-20T00:32:27.953255Z",
     "shell.execute_reply": "2024-06-20T00:32:27.952712Z"
    }
   },
   "outputs": [
    {
     "ename": "NameError",
     "evalue": "name 'obs' is not defined",
     "output_type": "error",
     "traceback": [
      "\u001b[0;31m---------------------------------------------------------------------------\u001b[0m",
      "\u001b[0;31mNameError\u001b[0m                                 Traceback (most recent call last)",
      "Cell \u001b[0;32mIn[18], line 1\u001b[0m\n\u001b[0;32m----> 1\u001b[0m dolp_mean \u001b[38;5;241m=\u001b[39m \u001b[43mobs\u001b[49m[\u001b[38;5;124m\"\u001b[39m\u001b[38;5;124mdolp\u001b[39m\u001b[38;5;124m\"\u001b[39m]\u001b[38;5;241m.\u001b[39mmean([\u001b[38;5;124m\"\u001b[39m\u001b[38;5;124mbins_along_track\u001b[39m\u001b[38;5;124m\"\u001b[39m, \u001b[38;5;124m\"\u001b[39m\u001b[38;5;124mbins_across_track\u001b[39m\u001b[38;5;124m\"\u001b[39m])\n\u001b[1;32m      2\u001b[0m dolp_mean \u001b[38;5;241m=\u001b[39m (dolp_mean \u001b[38;5;241m-\u001b[39m dolp_mean\u001b[38;5;241m.\u001b[39mmin()) \u001b[38;5;241m/\u001b[39m (dolp_mean\u001b[38;5;241m.\u001b[39mmax() \u001b[38;5;241m-\u001b[39m dolp_mean\u001b[38;5;241m.\u001b[39mmin())\n",
      "\u001b[0;31mNameError\u001b[0m: name 'obs' is not defined"
     ]
    }
   ],
   "source": [
    "dolp_mean = obs[\"dolp\"].mean([\"bins_along_track\", \"bins_across_track\"])\n",
    "dolp_mean = (dolp_mean - dolp_mean.min()) / (dolp_mean.max() - dolp_mean.min())"
   ]
  },
  {
   "cell_type": "code",
   "execution_count": 19,
   "id": "0fe1efbb",
   "metadata": {
    "execution": {
     "iopub.execute_input": "2024-06-20T00:32:27.955439Z",
     "iopub.status.busy": "2024-06-20T00:32:27.955205Z",
     "iopub.status.idle": "2024-06-20T00:32:27.971236Z",
     "shell.execute_reply": "2024-06-20T00:32:27.970723Z"
    }
   },
   "outputs": [
    {
     "ename": "NameError",
     "evalue": "name 'plt' is not defined",
     "output_type": "error",
     "traceback": [
      "\u001b[0;31m---------------------------------------------------------------------------\u001b[0m",
      "\u001b[0;31mNameError\u001b[0m                                 Traceback (most recent call last)",
      "Cell \u001b[0;32mIn[19], line 1\u001b[0m\n\u001b[0;32m----> 1\u001b[0m fig, ax \u001b[38;5;241m=\u001b[39m \u001b[43mplt\u001b[49m\u001b[38;5;241m.\u001b[39msubplots(figsize\u001b[38;5;241m=\u001b[39m(\u001b[38;5;241m16\u001b[39m, \u001b[38;5;241m6\u001b[39m))\n\u001b[1;32m      2\u001b[0m wv_uq \u001b[38;5;241m=\u001b[39m np\u001b[38;5;241m.\u001b[39munique(wavelengths\u001b[38;5;241m.\u001b[39mvalues)\n\u001b[1;32m      3\u001b[0m plot_data \u001b[38;5;241m=\u001b[39m [(\u001b[38;5;124m\"\u001b[39m\u001b[38;5;124mb\u001b[39m\u001b[38;5;124m\"\u001b[39m, \u001b[38;5;124m\"\u001b[39m\u001b[38;5;124mo\u001b[39m\u001b[38;5;124m\"\u001b[39m), (\u001b[38;5;124m\"\u001b[39m\u001b[38;5;124mg\u001b[39m\u001b[38;5;124m\"\u001b[39m, \u001b[38;5;124m\"\u001b[39m\u001b[38;5;124m^\u001b[39m\u001b[38;5;124m\"\u001b[39m), (\u001b[38;5;124m\"\u001b[39m\u001b[38;5;124mr\u001b[39m\u001b[38;5;124m\"\u001b[39m, \u001b[38;5;124m\"\u001b[39m\u001b[38;5;124m*\u001b[39m\u001b[38;5;124m\"\u001b[39m), (\u001b[38;5;124m\"\u001b[39m\u001b[38;5;124mk\u001b[39m\u001b[38;5;124m\"\u001b[39m, \u001b[38;5;124m\"\u001b[39m\u001b[38;5;124ms\u001b[39m\u001b[38;5;124m\"\u001b[39m)]\n",
      "\u001b[0;31mNameError\u001b[0m: name 'plt' is not defined"
     ]
    }
   ],
   "source": [
    "fig, ax = plt.subplots(figsize=(16, 6))\n",
    "wv_uq = np.unique(wavelengths.values)\n",
    "plot_data = [(\"b\", \"o\"), (\"g\", \"^\"), (\"r\", \"*\"), (\"k\", \"s\")]\n",
    "for wv_idx in range(4):\n",
    "    wv = wv_uq[wv_idx]\n",
    "    wv_mask = wavelengths.values == wv\n",
    "    c, m = plot_data[wv_idx]\n",
    "    ax.plot(\n",
    "        angles.values[wv_mask],\n",
    "        dolp_mean[wv_mask],\n",
    "        color=c,\n",
    "        marker=m,\n",
    "        markersize=7,\n",
    "        label=str(wv),\n",
    "    )\n",
    "ax.legend()\n",
    "ax.set_xlabel(\"Nominal View Angle (°)\")\n",
    "ax.set_ylabel(\"DoLP\")\n",
    "ax.set_title(\"Mean DoLP by View Angle\")\n",
    "plt.show()"
   ]
  },
  {
   "cell_type": "markdown",
   "id": "0abb675b",
   "metadata": {},
   "source": [
    "[Back to top](#toc)\n",
    "<a name='reflectance'></a>\n",
    "## 4. Radiance to Reflectance\n",
    "\n",
    "We can convert radiance into reflectance. For a more in-depth explanation, see [here](https://seadas.gsfc.nasa.gov/help-9.0.0/rad2refl/Rad2ReflAlgorithmSpecification.html#:~:text=Radiance%20is%20the%20variable%20directly,it%2C%20and%20it%20is%20dimensionless). This conversion compensates for the differences in appearance due to the viewing angle and sun angle.\n",
    "\n",
    "The difference in appearance (after matplotlib automatically normalizes the data) is negligible, but the difference in the physical meaning of the array values is quite important."
   ]
  },
  {
   "cell_type": "code",
   "execution_count": 20,
   "id": "3f212ff3",
   "metadata": {
    "execution": {
     "iopub.execute_input": "2024-06-20T00:32:27.973591Z",
     "iopub.status.busy": "2024-06-20T00:32:27.973359Z",
     "iopub.status.idle": "2024-06-20T00:32:27.985638Z",
     "shell.execute_reply": "2024-06-20T00:32:27.985112Z"
    }
   },
   "outputs": [
    {
     "ename": "NameError",
     "evalue": "name 'obs' is not defined",
     "output_type": "error",
     "traceback": [
      "\u001b[0;31m---------------------------------------------------------------------------\u001b[0m",
      "\u001b[0;31mNameError\u001b[0m                                 Traceback (most recent call last)",
      "Cell \u001b[0;32mIn[20], line 2\u001b[0m\n\u001b[1;32m      1\u001b[0m refl \u001b[38;5;241m=\u001b[39m rad_to_refl(\n\u001b[0;32m----> 2\u001b[0m     rad\u001b[38;5;241m=\u001b[39m\u001b[43mobs\u001b[49m[\u001b[38;5;124m\"\u001b[39m\u001b[38;5;124mi\u001b[39m\u001b[38;5;124m\"\u001b[39m],\n\u001b[1;32m      3\u001b[0m     f0\u001b[38;5;241m=\u001b[39mview[\u001b[38;5;124m\"\u001b[39m\u001b[38;5;124mintensity_f0\u001b[39m\u001b[38;5;124m\"\u001b[39m],\n\u001b[1;32m      4\u001b[0m     sza\u001b[38;5;241m=\u001b[39mgeo[\u001b[38;5;124m\"\u001b[39m\u001b[38;5;124msolar_zenith_angle\u001b[39m\u001b[38;5;124m\"\u001b[39m],\n\u001b[1;32m      5\u001b[0m     r\u001b[38;5;241m=\u001b[39m\u001b[38;5;28mfloat\u001b[39m(prod\u001b[38;5;241m.\u001b[39mattrs[\u001b[38;5;124m\"\u001b[39m\u001b[38;5;124msun_earth_distance\u001b[39m\u001b[38;5;124m\"\u001b[39m]),\n\u001b[1;32m      6\u001b[0m )\n",
      "\u001b[0;31mNameError\u001b[0m: name 'obs' is not defined"
     ]
    }
   ],
   "source": [
    "refl = rad_to_refl(\n",
    "    rad=obs[\"i\"],\n",
    "    f0=view[\"intensity_f0\"],\n",
    "    sza=geo[\"solar_zenith_angle\"],\n",
    "    r=float(prod.attrs[\"sun_earth_distance\"]),\n",
    ")"
   ]
  },
  {
   "cell_type": "code",
   "execution_count": 21,
   "id": "ad663c80",
   "metadata": {
    "execution": {
     "iopub.execute_input": "2024-06-20T00:32:27.987749Z",
     "iopub.status.busy": "2024-06-20T00:32:27.987518Z",
     "iopub.status.idle": "2024-06-20T00:32:28.002023Z",
     "shell.execute_reply": "2024-06-20T00:32:28.001527Z"
    }
   },
   "outputs": [
    {
     "ename": "NameError",
     "evalue": "name 'plt' is not defined",
     "output_type": "error",
     "traceback": [
      "\u001b[0;31m---------------------------------------------------------------------------\u001b[0m",
      "\u001b[0;31mNameError\u001b[0m                                 Traceback (most recent call last)",
      "Cell \u001b[0;32mIn[21], line 1\u001b[0m\n\u001b[0;32m----> 1\u001b[0m fig, ax \u001b[38;5;241m=\u001b[39m \u001b[43mplt\u001b[49m\u001b[38;5;241m.\u001b[39msubplots(\u001b[38;5;241m1\u001b[39m, \u001b[38;5;241m2\u001b[39m, figsize\u001b[38;5;241m=\u001b[39m(\u001b[38;5;241m16\u001b[39m, \u001b[38;5;241m8\u001b[39m))\n\u001b[1;32m      2\u001b[0m ax[\u001b[38;5;241m0\u001b[39m]\u001b[38;5;241m.\u001b[39mimshow(obs[\u001b[38;5;124m\"\u001b[39m\u001b[38;5;124mi\u001b[39m\u001b[38;5;124m\"\u001b[39m]\u001b[38;5;241m.\u001b[39msel({\u001b[38;5;124m\"\u001b[39m\u001b[38;5;124mnumber_of_views\u001b[39m\u001b[38;5;124m\"\u001b[39m: red_nadir_idx}), cmap\u001b[38;5;241m=\u001b[39m\u001b[38;5;124m\"\u001b[39m\u001b[38;5;124mgray\u001b[39m\u001b[38;5;124m\"\u001b[39m)\n\u001b[1;32m      3\u001b[0m ax[\u001b[38;5;241m0\u001b[39m]\u001b[38;5;241m.\u001b[39mset_title(\u001b[38;5;124m\"\u001b[39m\u001b[38;5;124mRadiance\u001b[39m\u001b[38;5;124m\"\u001b[39m)\n",
      "\u001b[0;31mNameError\u001b[0m: name 'plt' is not defined"
     ]
    }
   ],
   "source": [
    "fig, ax = plt.subplots(1, 2, figsize=(16, 8))\n",
    "ax[0].imshow(obs[\"i\"].sel({\"number_of_views\": red_nadir_idx}), cmap=\"gray\")\n",
    "ax[0].set_title(\"Radiance\")\n",
    "ax[1].imshow(refl.sel({\"number_of_views\": red_nadir_idx}), cmap=\"gray\")\n",
    "ax[1].set_title(\"Reflectance\")\n",
    "plt.show()"
   ]
  },
  {
   "cell_type": "markdown",
   "id": "39fe121e",
   "metadata": {},
   "source": [
    "Create a line plot of the mean reflectance for each view angle and spectral channel. The flatness of this plot serves as a sanity check that nothing has gone horribly wrong with our data processing."
   ]
  },
  {
   "cell_type": "code",
   "execution_count": 22,
   "id": "3d8159ef",
   "metadata": {
    "execution": {
     "iopub.execute_input": "2024-06-20T00:32:28.004230Z",
     "iopub.status.busy": "2024-06-20T00:32:28.004005Z",
     "iopub.status.idle": "2024-06-20T00:32:28.020347Z",
     "shell.execute_reply": "2024-06-20T00:32:28.019810Z"
    }
   },
   "outputs": [
    {
     "ename": "NameError",
     "evalue": "name 'plt' is not defined",
     "output_type": "error",
     "traceback": [
      "\u001b[0;31m---------------------------------------------------------------------------\u001b[0m",
      "\u001b[0;31mNameError\u001b[0m                                 Traceback (most recent call last)",
      "Cell \u001b[0;32mIn[22], line 1\u001b[0m\n\u001b[0;32m----> 1\u001b[0m fig, ax \u001b[38;5;241m=\u001b[39m \u001b[43mplt\u001b[49m\u001b[38;5;241m.\u001b[39msubplots(figsize\u001b[38;5;241m=\u001b[39m(\u001b[38;5;241m16\u001b[39m, \u001b[38;5;241m6\u001b[39m))\n\u001b[1;32m      2\u001b[0m wv_uq \u001b[38;5;241m=\u001b[39m np\u001b[38;5;241m.\u001b[39munique(wavelengths\u001b[38;5;241m.\u001b[39mvalues)\n\u001b[1;32m      3\u001b[0m plot_data \u001b[38;5;241m=\u001b[39m [(\u001b[38;5;124m\"\u001b[39m\u001b[38;5;124mb\u001b[39m\u001b[38;5;124m\"\u001b[39m, \u001b[38;5;124m\"\u001b[39m\u001b[38;5;124mo\u001b[39m\u001b[38;5;124m\"\u001b[39m), (\u001b[38;5;124m\"\u001b[39m\u001b[38;5;124mg\u001b[39m\u001b[38;5;124m\"\u001b[39m, \u001b[38;5;124m\"\u001b[39m\u001b[38;5;124m^\u001b[39m\u001b[38;5;124m\"\u001b[39m), (\u001b[38;5;124m\"\u001b[39m\u001b[38;5;124mr\u001b[39m\u001b[38;5;124m\"\u001b[39m, \u001b[38;5;124m\"\u001b[39m\u001b[38;5;124m*\u001b[39m\u001b[38;5;124m\"\u001b[39m), (\u001b[38;5;124m\"\u001b[39m\u001b[38;5;124mblack\u001b[39m\u001b[38;5;124m\"\u001b[39m, \u001b[38;5;124m\"\u001b[39m\u001b[38;5;124ms\u001b[39m\u001b[38;5;124m\"\u001b[39m)]\n",
      "\u001b[0;31mNameError\u001b[0m: name 'plt' is not defined"
     ]
    }
   ],
   "source": [
    "fig, ax = plt.subplots(figsize=(16, 6))\n",
    "wv_uq = np.unique(wavelengths.values)\n",
    "plot_data = [(\"b\", \"o\"), (\"g\", \"^\"), (\"r\", \"*\"), (\"black\", \"s\")]\n",
    "refl_mean = refl.mean([\"bins_along_track\", \"bins_across_track\"])\n",
    "for wv_idx in range(4):\n",
    "    wv = wv_uq[wv_idx]\n",
    "    wv_mask = wavelengths.values == wv\n",
    "    c, m = plot_data[wv_idx]\n",
    "    ax.plot(\n",
    "        angles.values[wv_mask],\n",
    "        refl_mean[wv_mask],\n",
    "        color=c,\n",
    "        marker=m,\n",
    "        markersize=7,\n",
    "        label=str(wv),\n",
    "    )\n",
    "\n",
    "ax.legend()\n",
    "ax.set_xlabel(\"Nominal View Angle (°)\")\n",
    "ax.set_ylabel(\"Reflectance\")\n",
    "ax.set_title(\"Mean Reflectance by View Angle\")\n",
    "plt.show()"
   ]
  },
  {
   "cell_type": "markdown",
   "id": "6ad5880e",
   "metadata": {},
   "source": [
    "[Back to top](#toc)\n",
    "<a name='animation'>\n",
    "## 5. A Simple Animation\n",
    "\n",
    "<div class=\"alert alert-info\" role=\"alert\">\n",
    "<p>WARNING: there is some flickering in the animation displayed in this section.</p>\n",
    "</div>\n",
    "\n",
    "All that is great for looking at a single angle at a time, but it doesn't capture the multi-angle nature of the instrument. Multi-angle data innately captures information about 3D structure. To get a sense of that, we'll make an animation of the scene with the 60 viewing angles available for the red band.\n",
    "\n",
    "Note: you can generate this animation with geolocated data as well, using `pcolormesh` as shown in the above code blocks. However, this can be a little slow for multi-angle data, so for now we'll just use the un-interpolated arrays. This means there will be some stripes of what seems like missing data at certain angles. These stripes actually result from the gridding of the multi-angle data, and are not a bug."
   ]
  },
  {
   "cell_type": "markdown",
   "id": "22dcf1e7",
   "metadata": {},
   "source": [
    "Create an animated PNG object."
   ]
  },
  {
   "cell_type": "code",
   "execution_count": 23,
   "id": "22338dae",
   "metadata": {
    "execution": {
     "iopub.execute_input": "2024-06-20T00:32:28.022628Z",
     "iopub.status.busy": "2024-06-20T00:32:28.022399Z",
     "iopub.status.idle": "2024-06-20T00:32:28.033736Z",
     "shell.execute_reply": "2024-06-20T00:32:28.033231Z"
    }
   },
   "outputs": [
    {
     "ename": "NameError",
     "evalue": "name 'APNG' is not defined",
     "output_type": "error",
     "traceback": [
      "\u001b[0;31m---------------------------------------------------------------------------\u001b[0m",
      "\u001b[0;31mNameError\u001b[0m                                 Traceback (most recent call last)",
      "Cell \u001b[0;32mIn[23], line 1\u001b[0m\n\u001b[0;32m----> 1\u001b[0m anim \u001b[38;5;241m=\u001b[39m \u001b[43mAPNG\u001b[49m()\n",
      "\u001b[0;31mNameError\u001b[0m: name 'APNG' is not defined"
     ]
    }
   ],
   "source": [
    "anim = APNG()"
   ]
  },
  {
   "cell_type": "markdown",
   "id": "86fcd858",
   "metadata": {},
   "source": [
    "Get the reflectances of just the red channel, and normalize the reflectance to lie between 0 and 1."
   ]
  },
  {
   "cell_type": "code",
   "execution_count": 24,
   "id": "3299c3a1",
   "metadata": {
    "execution": {
     "iopub.execute_input": "2024-06-20T00:32:28.036095Z",
     "iopub.status.busy": "2024-06-20T00:32:28.035865Z",
     "iopub.status.idle": "2024-06-20T00:32:28.048302Z",
     "shell.execute_reply": "2024-06-20T00:32:28.047768Z"
    }
   },
   "outputs": [
    {
     "ename": "NameError",
     "evalue": "name 'refl' is not defined",
     "output_type": "error",
     "traceback": [
      "\u001b[0;31m---------------------------------------------------------------------------\u001b[0m",
      "\u001b[0;31mNameError\u001b[0m                                 Traceback (most recent call last)",
      "Cell \u001b[0;32mIn[24], line 1\u001b[0m\n\u001b[0;32m----> 1\u001b[0m refl_red \u001b[38;5;241m=\u001b[39m \u001b[43mrefl\u001b[49m[\u001b[38;5;241m.\u001b[39m\u001b[38;5;241m.\u001b[39m\u001b[38;5;241m.\u001b[39m, \u001b[38;5;241m10\u001b[39m:\u001b[38;5;241m70\u001b[39m]\n\u001b[1;32m      2\u001b[0m refl_pretty \u001b[38;5;241m=\u001b[39m (refl_red \u001b[38;5;241m-\u001b[39m refl_red\u001b[38;5;241m.\u001b[39mmin()) \u001b[38;5;241m/\u001b[39m (refl_red\u001b[38;5;241m.\u001b[39mmax() \u001b[38;5;241m-\u001b[39m refl_red\u001b[38;5;241m.\u001b[39mmin())\n",
      "\u001b[0;31mNameError\u001b[0m: name 'refl' is not defined"
     ]
    }
   ],
   "source": [
    "refl_red = refl[..., 10:70]\n",
    "refl_pretty = (refl_red - refl_red.min()) / (refl_red.max() - refl_red.min())"
   ]
  },
  {
   "cell_type": "markdown",
   "id": "2e09363f",
   "metadata": {},
   "source": [
    "A very mild Gaussian filter over the angular axis will improve the animation's smoothness."
   ]
  },
  {
   "cell_type": "code",
   "execution_count": 25,
   "id": "33e143b4",
   "metadata": {
    "execution": {
     "iopub.execute_input": "2024-06-20T00:32:28.050649Z",
     "iopub.status.busy": "2024-06-20T00:32:28.050421Z",
     "iopub.status.idle": "2024-06-20T00:32:28.062024Z",
     "shell.execute_reply": "2024-06-20T00:32:28.061525Z"
    }
   },
   "outputs": [
    {
     "ename": "NameError",
     "evalue": "name 'gaussian_filter1d' is not defined",
     "output_type": "error",
     "traceback": [
      "\u001b[0;31m---------------------------------------------------------------------------\u001b[0m",
      "\u001b[0;31mNameError\u001b[0m                                 Traceback (most recent call last)",
      "Cell \u001b[0;32mIn[25], line 1\u001b[0m\n\u001b[0;32m----> 1\u001b[0m refl_pretty\u001b[38;5;241m.\u001b[39mdata \u001b[38;5;241m=\u001b[39m \u001b[43mgaussian_filter1d\u001b[49m(refl_pretty, sigma\u001b[38;5;241m=\u001b[39m\u001b[38;5;241m0.5\u001b[39m, truncate\u001b[38;5;241m=\u001b[39m\u001b[38;5;241m2\u001b[39m, axis\u001b[38;5;241m=\u001b[39m\u001b[38;5;241m2\u001b[39m)\n",
      "\u001b[0;31mNameError\u001b[0m: name 'gaussian_filter1d' is not defined"
     ]
    }
   ],
   "source": [
    "refl_pretty.data = gaussian_filter1d(refl_pretty, sigma=0.5, truncate=2, axis=2)"
   ]
  },
  {
   "cell_type": "markdown",
   "id": "ac4f068d",
   "metadata": {},
   "source": [
    "Raising the image to the power 2/3 will brighten it a little bit. Cast it to an unsigned 8-bit integer so we can write it to a png later."
   ]
  },
  {
   "cell_type": "code",
   "execution_count": 26,
   "id": "0c74f7f7",
   "metadata": {
    "execution": {
     "iopub.execute_input": "2024-06-20T00:32:28.064175Z",
     "iopub.status.busy": "2024-06-20T00:32:28.063955Z",
     "iopub.status.idle": "2024-06-20T00:32:28.076168Z",
     "shell.execute_reply": "2024-06-20T00:32:28.075681Z"
    }
   },
   "outputs": [
    {
     "ename": "NameError",
     "evalue": "name 'refl_pretty' is not defined",
     "output_type": "error",
     "traceback": [
      "\u001b[0;31m---------------------------------------------------------------------------\u001b[0m",
      "\u001b[0;31mNameError\u001b[0m                                 Traceback (most recent call last)",
      "Cell \u001b[0;32mIn[26], line 1\u001b[0m\n\u001b[0;32m----> 1\u001b[0m refl_pretty \u001b[38;5;241m=\u001b[39m \u001b[43mrefl_pretty\u001b[49m \u001b[38;5;241m*\u001b[39m\u001b[38;5;241m*\u001b[39m (\u001b[38;5;241m2\u001b[39m \u001b[38;5;241m/\u001b[39m \u001b[38;5;241m3\u001b[39m)\n\u001b[1;32m      2\u001b[0m refl_pretty\u001b[38;5;241m.\u001b[39mdata[np\u001b[38;5;241m.\u001b[39misnan(refl_pretty)] \u001b[38;5;241m=\u001b[39m \u001b[38;5;241m0\u001b[39m  \u001b[38;5;66;03m# set all of our not-a-number (NaN) values to 0\u001b[39;00m\n\u001b[1;32m      3\u001b[0m refl_pretty \u001b[38;5;241m=\u001b[39m (\u001b[38;5;241m255\u001b[39m \u001b[38;5;241m*\u001b[39m refl_pretty)\u001b[38;5;241m.\u001b[39mastype(np\u001b[38;5;241m.\u001b[39muint8)\n",
      "\u001b[0;31mNameError\u001b[0m: name 'refl_pretty' is not defined"
     ]
    }
   ],
   "source": [
    "refl_pretty = refl_pretty ** (2 / 3)\n",
    "refl_pretty.data[np.isnan(refl_pretty)] = 0  # set all of our not-a-number (NaN) values to 0\n",
    "refl_pretty = (255 * refl_pretty).astype(np.uint8)"
   ]
  },
  {
   "cell_type": "markdown",
   "id": "c5184747",
   "metadata": {},
   "source": [
    "Append all but the first and last frame in reverse order, to get a 'bounce' effect."
   ]
  },
  {
   "cell_type": "code",
   "execution_count": 27,
   "id": "c3409863",
   "metadata": {
    "execution": {
     "iopub.execute_input": "2024-06-20T00:32:28.078309Z",
     "iopub.status.busy": "2024-06-20T00:32:28.078086Z",
     "iopub.status.idle": "2024-06-20T00:32:28.090590Z",
     "shell.execute_reply": "2024-06-20T00:32:28.090025Z"
    }
   },
   "outputs": [
    {
     "ename": "NameError",
     "evalue": "name 'np' is not defined",
     "output_type": "error",
     "traceback": [
      "\u001b[0;31m---------------------------------------------------------------------------\u001b[0m",
      "\u001b[0;31mNameError\u001b[0m                                 Traceback (most recent call last)",
      "Cell \u001b[0;32mIn[27], line 1\u001b[0m\n\u001b[0;32m----> 1\u001b[0m frames \u001b[38;5;241m=\u001b[39m \u001b[43mnp\u001b[49m\u001b[38;5;241m.\u001b[39mconcatenate([refl_pretty, refl_pretty[\u001b[38;5;241m.\u001b[39m\u001b[38;5;241m.\u001b[39m\u001b[38;5;241m.\u001b[39m, \u001b[38;5;241m-\u001b[39m\u001b[38;5;241m1\u001b[39m:\u001b[38;5;241m1\u001b[39m:\u001b[38;5;241m-\u001b[39m\u001b[38;5;241m1\u001b[39m]], axis\u001b[38;5;241m=\u001b[39m\u001b[38;5;241m2\u001b[39m)\n",
      "\u001b[0;31mNameError\u001b[0m: name 'np' is not defined"
     ]
    }
   ],
   "source": [
    "frames = np.concatenate([refl_pretty, refl_pretty[..., -1:1:-1]], axis=2)"
   ]
  },
  {
   "cell_type": "markdown",
   "id": "f2af62eb",
   "metadata": {},
   "source": [
    "Save each frame to this directory and append the files to our animated PNG object\n",
    "Make a temporary directory to dump frames into."
   ]
  },
  {
   "cell_type": "code",
   "execution_count": 28,
   "id": "666b665b",
   "metadata": {
    "execution": {
     "iopub.execute_input": "2024-06-20T00:32:28.092780Z",
     "iopub.status.busy": "2024-06-20T00:32:28.092559Z",
     "iopub.status.idle": "2024-06-20T00:32:28.106797Z",
     "shell.execute_reply": "2024-06-20T00:32:28.106256Z"
    }
   },
   "outputs": [
    {
     "ename": "NameError",
     "evalue": "name 'frames' is not defined",
     "output_type": "error",
     "traceback": [
      "\u001b[0;31m---------------------------------------------------------------------------\u001b[0m",
      "\u001b[0;31mNameError\u001b[0m                                 Traceback (most recent call last)",
      "Cell \u001b[0;32mIn[28], line 2\u001b[0m\n\u001b[1;32m      1\u001b[0m \u001b[38;5;28;01mwith\u001b[39;00m TemporaryDirectory() \u001b[38;5;28;01mas\u001b[39;00m tmp:\n\u001b[0;32m----> 2\u001b[0m     \u001b[38;5;28;01mfor\u001b[39;00m i \u001b[38;5;129;01min\u001b[39;00m \u001b[38;5;28mrange\u001b[39m(\u001b[43mframes\u001b[49m\u001b[38;5;241m.\u001b[39mshape[\u001b[38;5;241m2\u001b[39m]):\n\u001b[1;32m      3\u001b[0m         frame \u001b[38;5;241m=\u001b[39m frames[\u001b[38;5;241m.\u001b[39m\u001b[38;5;241m.\u001b[39m\u001b[38;5;241m.\u001b[39m, i]\n\u001b[1;32m      4\u001b[0m         path \u001b[38;5;241m=\u001b[39m Path(tmp) \u001b[38;5;241m/\u001b[39m \u001b[38;5;124mf\u001b[39m\u001b[38;5;124m\"\u001b[39m\u001b[38;5;132;01m{\u001b[39;00mi\u001b[38;5;132;01m:\u001b[39;00m\u001b[38;5;124m04d\u001b[39m\u001b[38;5;132;01m}\u001b[39;00m\u001b[38;5;124m.png\u001b[39m\u001b[38;5;124m\"\u001b[39m\n",
      "\u001b[0;31mNameError\u001b[0m: name 'frames' is not defined"
     ]
    }
   ],
   "source": [
    "with TemporaryDirectory() as tmp:\n",
    "    for i in range(frames.shape[2]):\n",
    "        frame = frames[..., i]\n",
    "        path = Path(tmp) / f\"{i:04d}.png\"\n",
    "        imageio.imwrite(path, frame)\n",
    "        anim.append_file(path, delay=i)\n",
    "    anim.save(f'harp2_red_anim_{prod.attrs[\"product_name\"].split(\".\")[1]}.png')"
   ]
  },
  {
   "cell_type": "markdown",
   "id": "4fb13f42",
   "metadata": {},
   "source": [
    "Check it out! This is a great example of multi-layer clouds. You can use the parallax effect to distinguish between these layers.\n",
    "\n",
    "The [sunglint](https://en.wikipedia.org/wiki/Sunglint) is an obvious feature, but you can also make out the [opposition effect](https://en.wikipedia.org/wiki/Opposition_surge) on some of the clouds in the scene. These details would be far harder to identify without multiple angles!\n",
    "\n",
    "![A multi-angle HARP2 animation](harp2_red_anim_20240519T235950.png)"
   ]
  }
 ],
 "metadata": {
  "jupytext": {
   "cell_metadata_filter": "scrolled,-all",
   "notebook_metadata_filter": "-all"
  },
  "kernelspec": {
   "display_name": "Python 3 (ipykernel)",
   "language": "python",
   "name": "python3"
  },
  "language_info": {
   "codemirror_mode": {
    "name": "ipython",
    "version": 3
   },
   "file_extension": ".py",
   "mimetype": "text/x-python",
   "name": "python",
   "nbconvert_exporter": "python",
   "pygments_lexer": "ipython3",
   "version": "3.11.9"
  }
 },
 "nbformat": 4,
 "nbformat_minor": 5
}
