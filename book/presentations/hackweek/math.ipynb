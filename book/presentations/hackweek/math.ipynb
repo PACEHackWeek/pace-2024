{
 "cells": [
  {
   "cell_type": "markdown",
   "id": "cd5ac86d-f353-40ad-94f4-f963f2185448",
   "metadata": {},
   "source": [
    "# Math\n",
    "\n",
    "Here is some $q^x$ math.\n",
    "\n",
    "$$\n",
    "a+b=2\n",
    "$$\n",
    "\n",
    "and more"
   ]
  }
 ],
 "metadata": {
  "kernelspec": {
   "display_name": "Python 3 (ipykernel)",
   "language": "python",
   "name": "python3"
  },
  "language_info": {
   "codemirror_mode": {
    "name": "ipython",
    "version": 3
   },
   "file_extension": ".py",
   "mimetype": "text/x-python",
   "name": "python",
   "nbconvert_exporter": "python",
   "pygments_lexer": "ipython3",
   "version": "3.11.9"
  }
 },
 "nbformat": 4,
 "nbformat_minor": 5
}
