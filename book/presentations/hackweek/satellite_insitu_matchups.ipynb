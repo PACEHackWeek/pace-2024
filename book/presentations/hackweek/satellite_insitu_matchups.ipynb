{
 "cells": [
  {
   "cell_type": "markdown",
   "id": "3db0d4f2",
   "metadata": {},
   "source": [
    "# Matchups of in situ data with satellite data\n",
    "\n",
    "**Tutorial Leads:** Anna Windle (NASA, SSAI), James Allen (NASA, Morgan State University)\n",
    "\n",
    "## Summary\n",
    "In this example we will conduct matchups of in situ AERONET-OC Rrs data with PACE OCI Rrs data. The Aerosol Robotic Network (AERONET) was developed to sustain atmospheric studies at various scales with measurements from worldwide distributed autonomous sun-photometers. This has been extended to support marine applications, called AERONET – Ocean Color [(AERONET-OC)](https://aeronet.gsfc.nasa.gov/new_web/ocean_levels_versions.html), and provides the additional capability of measuring the radiance emerging from the sea (i.e., water-leaving radiance) with modified sun-photometers installed on offshore platforms like lighthouses, oceanographic and oil towers. AERONET-OC is instrumental in satellite ocean color validation activities. \n",
    "\n",
    "In this tutorial, we will be collecting Rrs data from the Chesapeake Bay AERONET-OC site located at 39.1N, 76.3W in the upper Chesapeake Bay, Maryland, USA. The instrument is located 30m high on a USCG-controlled navigational range-light tower surrounded by highly turbid, optically deep 6-8 m depth waters. \n",
    "\n",
    "We will be collecting PACE OCI Rrs data in a 5x5 pixel window around the AERONET-OC Rrs data to compare to the AERONET-OC data. \n",
    "\n",
    "## Learning Objectives\n",
    "\n",
    "At the end of this notebook you will know:\n",
    "\n",
    "* How to access Rrs data from a specific AERONET-OC site and time\n",
    "* How to access PACE OCI Rrs data from a specific location and time\n",
    "* How to match in situ and satellite data\n",
    "* How to apply statistics and plot matchup data\n",
    "\n",
    "## Contents\n",
    "\n",
    "1. [Setup](#1.-Setup)\n",
    "2. [Process AERONET-OC data](#2.-Process-AERONET-OC-data)\n"
   ]
  },
  {
   "cell_type": "markdown",
   "id": "aa69fcad",
   "metadata": {},
   "source": [
    "## 1. Setup\n",
    "\n",
    "We begin by importing the packages used in this notebook.\n",
    "We will import `matchup_utils`, a .py file that hosts all the functions needed for this tutorial. "
   ]
  },
  {
   "cell_type": "code",
   "execution_count": 1,
   "id": "f70583cc",
   "metadata": {},
   "outputs": [
    {
     "ename": "ModuleNotFoundError",
     "evalue": "No module named 'matchup_utils'",
     "output_type": "error",
     "traceback": [
      "\u001b[0;31m---------------------------------------------------------------------------\u001b[0m",
      "\u001b[0;31mModuleNotFoundError\u001b[0m                       Traceback (most recent call last)",
      "Cell \u001b[0;32mIn[1], line 1\u001b[0m\n\u001b[0;32m----> 1\u001b[0m \u001b[38;5;28;01mfrom\u001b[39;00m \u001b[38;5;21;01mmatchup_utils\u001b[39;00m \u001b[38;5;28;01mimport\u001b[39;00m \u001b[38;5;241m*\u001b[39m\n",
      "\u001b[0;31mModuleNotFoundError\u001b[0m: No module named 'matchup_utils'"
     ]
    }
   ],
   "source": [
    "from matchup_utils import *"
   ]
  },
  {
   "cell_type": "markdown",
   "id": "6c4ec75a",
   "metadata": {},
   "source": [
    "## 2. Process AERONET-OC data\n",
    "\n",
    "We will use the function `process_aeronet` to download and process AERONET-OC data from the 'Chesapeake_Bay' site. We will filter Level 1.5 data from the dates June 1, 2024 to July 31, 2024. This function will output a pandas dataframe of every AERONET-OC record between the dates. \n",
    "\n",
    "Level 1.5 data is ______. More information on AERONET-OC levels can be found in [Zibordi et al., 2009](https://doi.org/10.1175/2009JTECHO654.1)"
   ]
  },
  {
   "cell_type": "code",
   "execution_count": null,
   "id": "0aac7d13",
   "metadata": {},
   "outputs": [],
   "source": [
    "aoc_cb = process_aeronet(aoc_site=\"Chesapeake_Bay\", \n",
    "                start_date=\"2024-06-01\", end_date=\"2024-07-31\",\n",
    "                data_level=15)\n",
    "aoc_cb              "
   ]
  },
  {
   "cell_type": "markdown",
   "id": "4c9f8522",
   "metadata": {},
   "source": [
    "## 3. Process PACE OCI data \n",
    "\n",
    "We will use the function `process_aeronet` to search for `PACE_OCI_L2_AOP_NRT` data using `earthaccess` within the specified time range and at the (lat,lon) coordinate of the Chesapeake_Bay AERONET-OC site. This function finds the closest pixel and extracts all data within a 5x5 pixel window, excludes pixels based on L2 flags, calculates the mean to retrive a single Rrs spectra, and computes matchup statistics. The function outputs a pandas dataframe of every `PACE_OCI_L2_AOP_NRT` Rrs spectra for the specified time range."
   ]
  },
  {
   "cell_type": "code",
   "execution_count": null,
   "id": "49efbbdd",
   "metadata": {},
   "outputs": [],
   "source": [
    "aaot_lat = 45.3139\n",
    "aaot_lon = 12.5083\n",
    "\n",
    "cb_lat = 39.12351\n",
    "cb_lon = -76.3489\n",
    "\n",
    "sat_cb = process_satellite(start_date=\"2024-06-01\", end_date=\"2024-07-31\",\n",
    "                  latitude=cb_lat, longitude=cb_lon, sat=\"PACE\")\n",
    "sat_cb"
   ]
  },
  {
   "cell_type": "markdown",
   "id": "9036fb31",
   "metadata": {},
   "source": [
    "## 3. Apply matchup code \n",
    "\n",
    "We will use the function `match_data` to create a matchup dataframe based on selection criteria. This function __"
   ]
  },
  {
   "cell_type": "code",
   "execution_count": null,
   "id": "b4d30a4c",
   "metadata": {},
   "outputs": [],
   "source": [
    "matchups = match_data(sat_cb, aoc_cb, cv_max=0.60, senz_max=60.0, \n",
    "                      min_percent_valid=55.0, max_time_diff=180, std_max=1.5)\n",
    "matchups"
   ]
  },
  {
   "cell_type": "markdown",
   "id": "6777adaf",
   "metadata": {},
   "source": [
    "Pull out wavelengths and Rrs data from matchups"
   ]
  },
  {
   "cell_type": "code",
   "execution_count": null,
   "id": "5425bd6c",
   "metadata": {},
   "outputs": [],
   "source": [
    "dict_aoc = get_column_prods(matchups, \"aoc\")\n",
    "waves_aoc = np.array(dict_aoc[\"rrs\"][\"wavelengths\"])\n",
    "rrs_aoc = matchups[dict_aoc[\"rrs\"][\"columns\"]].to_numpy()\n",
    "\n",
    "dict_sat = get_column_prods(matchups, \"oci\")\n",
    "waves_sat = np.array(dict_sat[\"rrs\"][\"wavelengths\"])\n",
    "rrs_sat = matchups[dict_sat[\"rrs\"][\"columns\"]].to_numpy()\n"
   ]
  },
  {
   "cell_type": "markdown",
   "id": "ea7ee7f6",
   "metadata": {},
   "source": [
    "## 4. Make plots\n",
    "\n",
    "We will use the function `plot_BAvsScat` to plot the paired matchup data as Bland_Altman and scatter plots as well as calculate statistics "
   ]
  },
  {
   "cell_type": "code",
   "execution_count": null,
   "id": "75727414",
   "metadata": {
    "lines_to_next_cell": 0
   },
   "outputs": [],
   "source": [
    "MATCH_WAVES = np.array([400, 412, 443, 490, 510, 560, 620, 667])\n",
    "\n",
    "# Loop through matchup wavelengths\n",
    "stats_list = []\n",
    "\n",
    "for idx, match_wave in enumerate(MATCH_WAVES):\n",
    "    # Find matching OCI columns\n",
    "    idx_sat = np.where(np.abs(waves_sat - match_wave) <= 5)[0]\n",
    "    match_sat = np.nanmean(rrs_sat[:, idx_sat], axis=1)\n",
    "\n",
    "    # Find matching AOC columns\n",
    "    idx_aoc = np.where(np.abs(waves_aoc - match_wave) <= 5)[0]\n",
    "    match_aoc = np.nanmean(rrs_aoc[:, idx_aoc], axis=1)\n",
    "\n",
    "    valid_indices = np.isfinite(match_sat) & np.isfinite(match_aoc)\n",
    "    if np.sum(valid_indices) > 5:\n",
    "        fig_label = f\"Rrs({match_wave}), sr\" + r\"$\\mathregular{^{-1}}$\"\n",
    "        stats = plot_BAvsScat(match_aoc[valid_indices],\n",
    "                                    match_sat[valid_indices],\n",
    "                                    label=fig_label,\n",
    "                                    saveplot=None,\n",
    "                                    x_label=\"AERONET\", y_label=\"PACE\",\n",
    "                                    is_type2=True)\n",
    "        stats[\"wavelength\"] = match_wave\n",
    "        stats_list.append(stats)\n",
    "\n",
    "# Organize stats DataFrame\n",
    "df_stats = pd.DataFrame(stats_list)\n",
    "#df_stats.set_index('wavelength', inplace=True)\n",
    "#df_stats = df_stats.fillna(-999)\n",
    "\n",
    "stats_list"
   ]
  },
  {
   "cell_type": "code",
   "execution_count": null,
   "id": "9e1f1ebc",
   "metadata": {
    "lines_to_next_cell": 2
   },
   "outputs": [],
   "source": []
  }
 ],
 "metadata": {
  "jupytext": {
   "text_representation": {
    "extension": ".py",
    "format_name": "light"
   }
  },
  "kernelspec": {
   "display_name": "Python 3 (ipykernel)",
   "language": "python",
   "name": "python3"
  },
  "language_info": {
   "codemirror_mode": {
    "name": "ipython",
    "version": 3
   },
   "file_extension": ".py",
   "mimetype": "text/x-python",
   "name": "python",
   "nbconvert_exporter": "python",
   "pygments_lexer": "ipython3",
   "version": "3.10.14"
  }
 },
 "nbformat": 4,
 "nbformat_minor": 5
}